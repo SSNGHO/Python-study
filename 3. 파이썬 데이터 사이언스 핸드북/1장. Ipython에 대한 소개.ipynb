{
 "cells": [
  {
   "cell_type": "code",
   "execution_count": null,
   "metadata": {},
   "outputs": [],
   "source": [
    "########## 1장. Ipython:파이썬에 날개를 달자 ##########"
   ]
  },
  {
   "cell_type": "code",
   "execution_count": null,
   "metadata": {},
   "outputs": [],
   "source": [
    "##### 셸과 노트북의 개념 (p2)\n",
    "\n",
    "### (1) Ipython : 대화형 파이썬(Interactive Python)의 약자\n",
    "# anaconda powershell prompt창에서 ipython을 입력하면 실행할 수 있음\n",
    "### (2) jupyter노트북 : Ipython 셸의 브라우저 기반 그래픽 인터페이스\n",
    "# anaconda powershell prompt창에서 jupyter notebook을 입력하면 실행할 수 있음"
   ]
  },
  {
   "cell_type": "code",
   "execution_count": 4,
   "metadata": {},
   "outputs": [
    {
     "name": "stdout",
     "output_type": "stream",
     "text": [
      "Help on built-in function len in module builtins:\n",
      "\n",
      "len(obj, /)\n",
      "    Return the number of items in a container.\n",
      "\n"
     ]
    }
   ],
   "source": [
    "##### ?로 문서 확인하기 (p4)\n",
    "\n",
    "# 모든 파이썬 객체는 객체에 대한 요약 정보와 사용법이 담긴 독스트링(docstring)이라는 문자열에 대한 참조를 포함하고 있다.\n",
    "# 파이썬에서는 이 정보에 접근해서 결과를 출력하는 help()함수(또는 함수명?)가 내장되어 있다.\n",
    "help(len)\n",
    "len?\n",
    "# 경우에 따라서 ??를 통해 소스코드에 접근할 수 있다."
   ]
  },
  {
   "cell_type": "code",
   "execution_count": 7,
   "metadata": {},
   "outputs": [],
   "source": [
    "##### .<tab>키로 자동 완성 기능을 사용할 수 있다. (p7)\n",
    "\n",
    "mylist = [1,2,3]\n",
    "# mylist.<tab>을 누르면 여러 메서드들이 나옴."
   ]
  },
  {
   "cell_type": "code",
   "execution_count": 8,
   "metadata": {},
   "outputs": [
    {
     "name": "stdout",
     "output_type": "stream",
     "text": [
      "33.7 µs ± 5.49 µs per loop (mean ± std. dev. of 7 runs, 10000 loops each)\n"
     ]
    }
   ],
   "source": [
    "%timeit sum(range(1000))"
   ]
  }
 ],
 "metadata": {
  "kernelspec": {
   "display_name": "Python 3",
   "language": "python",
   "name": "python3"
  },
  "language_info": {
   "codemirror_mode": {
    "name": "ipython",
    "version": 3
   },
   "file_extension": ".py",
   "mimetype": "text/x-python",
   "name": "python",
   "nbconvert_exporter": "python",
   "pygments_lexer": "ipython3",
   "version": "3.7.3"
  }
 },
 "nbformat": 4,
 "nbformat_minor": 2
}
 
