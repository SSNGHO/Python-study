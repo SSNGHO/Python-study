{
 "cells": [
  {
   "cell_type": "code",
   "execution_count": 2,
   "metadata": {},
   "outputs": [
    {
     "ename": "NameError",
     "evalue": "name 'numpy' is not defined",
     "output_type": "error",
     "traceback": [
      "\u001b[1;31m---------------------------------------------------------------------------\u001b[0m",
      "\u001b[1;31mNameError\u001b[0m                                 Traceback (most recent call last)",
      "\u001b[1;32m<ipython-input-2-b77a2aba9256>\u001b[0m in \u001b[0;36m<module>\u001b[1;34m\u001b[0m\n\u001b[0;32m      8\u001b[0m \u001b[1;31m# 파이썬 내장 타입인 list와 비슷하지만, 배열의 규모가 커질수록 더 효율적이다.\u001b[0m\u001b[1;33m\u001b[0m\u001b[1;33m\u001b[0m\u001b[1;33m\u001b[0m\u001b[0m\n\u001b[0;32m      9\u001b[0m \u001b[1;32mimport\u001b[0m \u001b[0mnumpy\u001b[0m \u001b[1;32mas\u001b[0m \u001b[0mnp\u001b[0m\u001b[1;33m\u001b[0m\u001b[1;33m\u001b[0m\u001b[0m\n\u001b[1;32m---> 10\u001b[1;33m \u001b[0mnumpy\u001b[0m\u001b[1;33m.\u001b[0m\u001b[0m__version__\u001b[0m\u001b[1;33m\u001b[0m\u001b[1;33m\u001b[0m\u001b[0m\n\u001b[0m",
      "\u001b[1;31mNameError\u001b[0m: name 'numpy' is not defined"
     ]
    }
   ],
   "source": [
    "##### Numpy 개요\n",
    "\n",
    "# numpy, pandas : 파이썬에서 인메모리 데이터를 효과적으로 적재,저장,가공하는 기법\n",
    "# 다양한 데이터(문서, 이미지, 사운드 등)에도 불구하고 모든 데이터를 근본적으로 숫자 배열로 간주하는 것은 도움이 된다.\n",
    "# 이러한 숫자 배열을 다루기 위해 제공하는게 NumPy패키지와 Pandas패키지임.\n",
    "\n",
    "# numpy는 numerical python의 약자임.\n",
    "# 파이썬 내장 타입인 list와 비슷하지만, 배열의 규모가 커질수록 더 효율적이다.\n",
    "import numpy as np\n",
    "numpy.__version__"
   ]
  },
  {
   "cell_type": "code",
   "execution_count": 4,
   "metadata": {},
   "outputs": [],
   "source": [
    "np?"
   ]
  },
  {
   "cell_type": "code",
   "execution_count": 8,
   "metadata": {},
   "outputs": [
    {
     "data": {
      "text/plain": [
       "[bool, str, float, int]"
      ]
     },
     "execution_count": 8,
     "metadata": {},
     "output_type": "execute_result"
    }
   ],
   "source": [
    "### list와의 차이점 (p42)\n",
    "\n",
    "# 파이썬은 동적 타입 체계를 가진 언어이다. => 명시적으로 데이터 타입을 지정해주지 않아도 된다는 것.\n",
    "# but, 추가 정보를 기본적으로 갖고 있기 때문에, 비용이 따르게 된다. list는 동적 타입임\n",
    "L = [True, \"2\", 3.0, 4]\n",
    "[type(item) for item in L]  # 리스트는 어느 타입이든 담을 수 있는 유연한 형태임\n",
    "# numpy는 동적 타입이 아니라 고정타입 배열이기 때문에 유연하지 않지만, 비용을 적게 지불해서 데이터를 효율적으로 다룰 수 있게 된다.\n",
    "\n",
    "# 추가적으로, (p44)\n",
    "# 파이썬의 고정 타입 배열을 나타내는 내장 모듈로 array가 있다.\n",
    "# 그러나, numpy의 ndarray는 array의 효율 저장 기능에다가 + 효율적인 연산까지 추가해서 훨씬 더 유용하게 사용한다."
   ]
  },
  {
   "cell_type": "code",
   "execution_count": null,
   "metadata": {},
   "outputs": [],
   "source": [
    "####################################################################################################################################"
   ]
  },
  {
   "cell_type": "code",
   "execution_count": 9,
   "metadata": {},
   "outputs": [
    {
     "data": {
      "text/plain": [
       "array([1, 2, 3, 4, 5])"
      ]
     },
     "execution_count": 9,
     "metadata": {},
     "output_type": "execute_result"
    }
   ],
   "source": [
    "### 파이썬 리스트에서 배열 만들기 (p44)\n",
    "\n",
    "np.array([1,2,3,4,5])"
   ]
  },
  {
   "cell_type": "code",
   "execution_count": 10,
   "metadata": {},
   "outputs": [
    {
     "data": {
      "text/plain": [
       "array([3.14, 5.  , 7.  ])"
      ]
     },
     "execution_count": 10,
     "metadata": {},
     "output_type": "execute_result"
    }
   ],
   "source": [
    "np.array([3.14, 5, 7])   # numpy는 배열의 모든 요소가 같은 타입이어야 하므로, 타입이 다르면 상위 타입을 취하게 된다."
   ]
  },
  {
   "cell_type": "code",
   "execution_count": 11,
   "metadata": {},
   "outputs": [
    {
     "data": {
      "text/plain": [
       "array([1., 2., 3., 4., 5.], dtype=float32)"
      ]
     },
     "execution_count": 11,
     "metadata": {},
     "output_type": "execute_result"
    }
   ],
   "source": [
    "np.array([1,2,3,4,5], dtype='float32')  # 데이터 타입을 명시적으로 지정해줄수도 있음."
   ]
  },
  {
   "cell_type": "code",
   "execution_count": 13,
   "metadata": {},
   "outputs": [
    {
     "data": {
      "text/plain": [
       "array([[1, 2, 3],\n",
       "       [4, 5, 6],\n",
       "       [7, 8, 9]])"
      ]
     },
     "execution_count": 13,
     "metadata": {},
     "output_type": "execute_result"
    }
   ],
   "source": [
    "np.array([[1,2,3],[4,5,6],[7,8,9]])    # list와 달리 numpy 배열은 다차원이 가능하다."
   ]
  },
  {
   "cell_type": "code",
   "execution_count": null,
   "metadata": {},
   "outputs": [],
   "source": [
    "####################################################################################################################################"
   ]
  },
  {
   "cell_type": "code",
   "execution_count": 14,
   "metadata": {},
   "outputs": [
    {
     "data": {
      "text/plain": [
       "array([0, 0, 0, 0, 0, 0, 0, 0, 0, 0])"
      ]
     },
     "execution_count": 14,
     "metadata": {},
     "output_type": "execute_result"
    }
   ],
   "source": [
    "### 처음부터 배열 만들기 (p45)\n",
    "# 규모가 큰 배열의 경우 numpy에 내장된 루틴을 사용해 처음부터 배열을 생성하는 것이 더 효율적이다.\n",
    "\n",
    "np.zeros(10, dtype=int)"
   ]
  },
  {
   "cell_type": "code",
   "execution_count": 15,
   "metadata": {},
   "outputs": [
    {
     "data": {
      "text/plain": [
       "array([[1., 1., 1., 1., 1.],\n",
       "       [1., 1., 1., 1., 1.],\n",
       "       [1., 1., 1., 1., 1.]])"
      ]
     },
     "execution_count": 15,
     "metadata": {},
     "output_type": "execute_result"
    }
   ],
   "source": [
    "np.ones((3,5), dtype=float)"
   ]
  },
  {
   "cell_type": "code",
   "execution_count": 16,
   "metadata": {},
   "outputs": [
    {
     "data": {
      "text/plain": [
       "array([[3.14, 3.14, 3.14, 3.14],\n",
       "       [3.14, 3.14, 3.14, 3.14],\n",
       "       [3.14, 3.14, 3.14, 3.14]])"
      ]
     },
     "execution_count": 16,
     "metadata": {},
     "output_type": "execute_result"
    }
   ],
   "source": [
    "np.full((3,4), 3.14)    # 원하는 특정한 수를 채운 배열 만들기"
   ]
  },
  {
   "cell_type": "code",
   "execution_count": 17,
   "metadata": {},
   "outputs": [
    {
     "data": {
      "text/plain": [
       "array([0.  , 0.25, 0.5 , 0.75, 1.  ])"
      ]
     },
     "execution_count": 17,
     "metadata": {},
     "output_type": "execute_result"
    }
   ],
   "source": [
    "np.linspace(0,1,5)     # 0과 1사이에 등간격을 가진 5개의 값을 채운 배열 만들기"
   ]
  },
  {
   "cell_type": "code",
   "execution_count": 18,
   "metadata": {},
   "outputs": [
    {
     "data": {
      "text/plain": [
       "array([[0.09338923, 0.60465084, 0.46460876],\n",
       "       [0.48731431, 0.12050853, 0.15860973],\n",
       "       [0.52923279, 0.01784055, 0.17232872]])"
      ]
     },
     "execution_count": 18,
     "metadata": {},
     "output_type": "execute_result"
    }
   ],
   "source": [
    "np.random.random((3,3))  # 0과 1사이의 난수로, 3x3 배열 만들기"
   ]
  },
  {
   "cell_type": "code",
   "execution_count": 20,
   "metadata": {},
   "outputs": [
    {
     "data": {
      "text/plain": [
       "array([[ 1.16530349,  1.44848983, -1.38166158],\n",
       "       [ 0.72332271, -0.90463788,  0.18865497],\n",
       "       [ 1.42629803, -0.23264425, -0.7049403 ]])"
      ]
     },
     "execution_count": 20,
     "metadata": {},
     "output_type": "execute_result"
    }
   ],
   "source": [
    "np.random.normal(0,1,(3,3))   # 평균0, 표준편차1인 정규분포의 난수로 3x3 배열 만들기"
   ]
  },
  {
   "cell_type": "code",
   "execution_count": 21,
   "metadata": {},
   "outputs": [
    {
     "data": {
      "text/plain": [
       "array([[0, 1, 4],\n",
       "       [6, 0, 3],\n",
       "       [1, 5, 1]])"
      ]
     },
     "execution_count": 21,
     "metadata": {},
     "output_type": "execute_result"
    }
   ],
   "source": [
    "np.random.randint(0, 10, (3,3))  # 0부터 10 구간의 임의의 정수로 채운 3x3 배열 만들기"
   ]
  },
  {
   "cell_type": "code",
   "execution_count": 22,
   "metadata": {},
   "outputs": [
    {
     "data": {
      "text/plain": [
       "array([[1., 0., 0.],\n",
       "       [0., 1., 0.],\n",
       "       [0., 0., 1.]])"
      ]
     },
     "execution_count": 22,
     "metadata": {},
     "output_type": "execute_result"
    }
   ],
   "source": [
    "np.eye(3)   # 3x3 단위 행렬 만들기"
   ]
  },
  {
   "cell_type": "code",
   "execution_count": null,
   "metadata": {},
   "outputs": [],
   "source": [
    "####################################################################################################################################"
   ]
  },
  {
   "cell_type": "code",
   "execution_count": null,
   "metadata": {},
   "outputs": [],
   "source": [
    "##### Numpy 배열의 기초 (p48)\n",
    "\n",
    "### (1) array 속성 지정\n",
    "### (2) array 인덱싱\n",
    "### (3) arrary 슬라이싱\n",
    "### (4) array 재구조화\n",
    "### (5) arrary 결합 및 분할"
   ]
  },
  {
   "cell_type": "code",
   "execution_count": 34,
   "metadata": {},
   "outputs": [],
   "source": [
    "np.random.seed(0)\n",
    "x1 = np.random.randint(10, size=6) \n",
    "x2 = np.random.randint(10, size=(3,4))\n",
    "x3 = np.random.randint(10, size=(3,4,5)) "
   ]
  },
  {
   "cell_type": "code",
   "execution_count": 36,
   "metadata": {},
   "outputs": [
    {
     "name": "stdout",
     "output_type": "stream",
     "text": [
      "x3 ndim : 3\n",
      "x3 shape : (3, 4, 5)\n",
      "x3 size : 60\n",
      "x3 dtype : int32\n"
     ]
    }
   ],
   "source": [
    "### (1) array 속성 지정 - ndim(몇차원), shape(각 차원의 크기), size(전체 배열 크기 = 각 차원의 곱), dtype(데이터 형태)\n",
    "\n",
    "print(\"x3 ndim :\", x3.ndim)\n",
    "print(\"x3 shape :\", x3.shape)\n",
    "print(\"x3 size :\", x3.size)\n",
    "print(\"x3 dtype :\", x3.dtype)"
   ]
  },
  {
   "cell_type": "code",
   "execution_count": 45,
   "metadata": {},
   "outputs": [
    {
     "name": "stdout",
     "output_type": "stream",
     "text": [
      "[3 0 3 3 7 9]\n",
      "3\n",
      "9\n",
      "[[3 5 2 4]\n",
      " [7 6 8 8]\n",
      " [1 6 7 7]]\n",
      "6\n",
      "[3 0 3 3 7 9]\n"
     ]
    }
   ],
   "source": [
    "### (2) array 인덱싱 - []기호로 접근\n",
    "\n",
    "print(x1)\n",
    "print(x1[0])\n",
    "print(x1[-1])\n",
    "print(x2)\n",
    "print(x2[1,1])\n",
    "# 다시한번, numpy array는 고정 타입을 가지므로 여기서 실수를 넣어도 소수점 이하는 잘라버린다.\n",
    "x1[0] = 3.14\n",
    "print(x1)"
   ]
  },
  {
   "cell_type": "code",
   "execution_count": 50,
   "metadata": {},
   "outputs": [
    {
     "name": "stdout",
     "output_type": "stream",
     "text": [
      "[0 1 2 3 4 5 6 7 8 9]\n",
      "[0 1 2 3 4]\n",
      "[0 2 4 6 8]\n",
      "[9 8 7 6 5 4 3 2 1 0]\n"
     ]
    }
   ],
   "source": [
    "### (3) array 슬라이싱 - :기호로 접근, x[start:stop:step]\n",
    "# default값은 start=0, stop=차원크기, step=1로 값이 설정되어 있다.\n",
    "\n",
    "x = np.arange(10)\n",
    "print(x)\n",
    "print(x[:5])    # 첫 5개 요소\n",
    "print(x[::2])   # 0부터 10번째(9)까지 2씩 step밟기\n",
    "print(x[::-1])  # step이 음수일 때는, start와 stop의 default값이 서로 바뀐다."
   ]
  },
  {
   "cell_type": "code",
   "execution_count": 52,
   "metadata": {},
   "outputs": [
    {
     "name": "stdout",
     "output_type": "stream",
     "text": [
      "[[3 5 2 4]\n",
      " [7 6 8 8]\n",
      " [1 6 7 7]]\n"
     ]
    },
    {
     "data": {
      "text/plain": [
       "array([[3, 5, 2],\n",
       "       [7, 6, 8]])"
      ]
     },
     "execution_count": 52,
     "metadata": {},
     "output_type": "execute_result"
    }
   ],
   "source": [
    "print(x2)\n",
    "x2[:2, :3]    # 2개의 행, 3개의 열"
   ]
  },
  {
   "cell_type": "code",
   "execution_count": 55,
   "metadata": {},
   "outputs": [
    {
     "name": "stdout",
     "output_type": "stream",
     "text": [
      "[3 7 1]\n",
      "[3 5 2 4]\n"
     ]
    }
   ],
   "source": [
    "# 인덱싱과 슬라이싱을 결합한 단일 행 or 열에 접근하기\n",
    "print(x2[:, 0])   # x2의 첫 번째 열\n",
    "print(x2[0, :])   # x2의 첫 번째 행"
   ]
  },
  {
   "cell_type": "code",
   "execution_count": 56,
   "metadata": {},
   "outputs": [
    {
     "data": {
      "text/plain": [
       "array([[3, 5],\n",
       "       [7, 6]])"
      ]
     },
     "execution_count": 56,
     "metadata": {},
     "output_type": "execute_result"
    }
   ],
   "source": [
    "# 추가적으로, 슬라이싱을 이용해 큰 array의 일부분을 추출한 다음에 그걸 수정하면, 원래 큰 array가 변경된다.\n",
    "# => 이것은 array슬라이스가 array의 copy가 아니라 view를 반환한다는 것이다.\n",
    "\n",
    "# 만약, view가 아니라 array의 데이터를 명시적으로 복사(copy)하고 싶은 경우에는 copy()메서드를 이용한다.\n",
    "x2_copy = x2[:2,:2].copy()\n",
    "x2_copy"
   ]
  },
  {
   "cell_type": "code",
   "execution_count": 59,
   "metadata": {},
   "outputs": [
    {
     "data": {
      "text/plain": [
       "array([[1, 2, 3],\n",
       "       [4, 5, 6],\n",
       "       [7, 8, 9]])"
      ]
     },
     "execution_count": 59,
     "metadata": {},
     "output_type": "execute_result"
    }
   ],
   "source": [
    "### (4) array 재구조화\n",
    "\n",
    "grid = np.arange(1,10).reshape((3,3))   # reshape()를 통해 array의 형상을 변경함\n",
    "grid"
   ]
  },
  {
   "cell_type": "code",
   "execution_count": 23,
   "metadata": {},
   "outputs": [
    {
     "data": {
      "text/plain": [
       "array([[1, 2, 3]])"
      ]
     },
     "execution_count": 23,
     "metadata": {},
     "output_type": "execute_result"
    }
   ],
   "source": [
    "# 또 다른 general한 재구조화 패턴으로 1차원 array를 2차원 행or열 매트릭스로 전환하는 것이 있음.\n",
    "# reshape나 newaxis를 통해 가능하다.\n",
    "\n",
    "x = np.array([1,2,3])  # 1차원 array\n",
    "x.reshape((1,3))       # reshape를 통해 2차원 행 벡터가 됨\n",
    "x[np.newaxis, :]      # newaxis를 통한 또 다른 방법"
   ]
  },
  {
   "cell_type": "code",
   "execution_count": 60,
   "metadata": {},
   "outputs": [
    {
     "data": {
      "text/plain": [
       "array([1, 2, 3, 3, 2, 1])"
      ]
     },
     "execution_count": 60,
     "metadata": {},
     "output_type": "execute_result"
    }
   ],
   "source": [
    "### (5) array 연결 및 분할 - np.concatenate, np.split\n",
    "\n",
    "x = np.array([1,2,3])\n",
    "y = np.array([3,2,1])\n",
    "np.concatenate([x,y])"
   ]
  },
  {
   "cell_type": "code",
   "execution_count": 64,
   "metadata": {},
   "outputs": [
    {
     "name": "stdout",
     "output_type": "stream",
     "text": [
      "[[1 2 3]\n",
      " [4 5 6]\n",
      " [1 2 3]\n",
      " [4 5 6]]\n",
      "[[1 2 3 1 2 3]\n",
      " [4 5 6 4 5 6]]\n"
     ]
    }
   ],
   "source": [
    "grid = np.array([[1,2,3], [4,5,6]])\n",
    "print(np.concatenate([grid, grid]))            # 첫번째 축(행)을 따라 연결\n",
    "print(np.concatenate([grid, grid], axis=1))    # 두번째 축(열)을 따라 연결\n",
    "# concatenate말고, np.vstack이나 np.hstack으로 쌓을 수 있다."
   ]
  },
  {
   "cell_type": "code",
   "execution_count": 65,
   "metadata": {},
   "outputs": [
    {
     "name": "stdout",
     "output_type": "stream",
     "text": [
      "[1 2 3] [99 99] [3 2 1]\n"
     ]
    }
   ],
   "source": [
    "x = [1,2,3,99,99,3,2,1]\n",
    "x1,x2,x3 = np.split(x, [3,5])     # x를 3번째 지점과 5번째 지점에서 분할\n",
    "print(x1, x2, x3)"
   ]
  },
  {
   "cell_type": "code",
   "execution_count": null,
   "metadata": {},
   "outputs": [],
   "source": [
    "####################################################################################################################################"
   ]
  },
  {
   "cell_type": "code",
   "execution_count": null,
   "metadata": {},
   "outputs": [],
   "source": [
    "##### Numpy array 연산 : 유니버셜 함수 (p58)\n",
    "\n",
    "# numpy array의 연산을 빠르게 만드는 핵심은 벡터화 연산을 사용하는 것인데, 이건 일반적으로 유니버설 함수를 통해 구현된다.\n",
    "# 벡터화 연산 : numpy는 연산에 대해 정적 타입 체계를 가진 컴파일된 루틴에 편리한 인터페이스를 제공한다.\n",
    "# ufunc를 통한 벡터화를 이용한 연산은 파이썬 루프를 통해 구현된 연산보다 대부분 더 효율적이므로,\n",
    "#       파이썬 스크립트에서 그러한 루프를 보면 항상 벡터화 표현식으로 바꿀 수 있을지를 고민해야 한다."
   ]
  },
  {
   "cell_type": "code",
   "execution_count": 75,
   "metadata": {
    "scrolled": true
   },
   "outputs": [
    {
     "name": "stdout",
     "output_type": "stream",
     "text": [
      "2\n",
      "1\n",
      "10\n",
      "5.0\n",
      "-3\n",
      "3\n",
      "1\n",
      "32\n",
      "30\n"
     ]
    }
   ],
   "source": [
    "### array 산술 연산, 절대값 함수\n",
    "\n",
    "print(np.add(1,1))\n",
    "print(np.subtract(3,2))\n",
    "print(np.multiply(5,2))\n",
    "print(np.divide(10,2))\n",
    "print(np.negative(3))\n",
    "print(np.floor_divide(10,3))   # //  : 몫\n",
    "print(np.mod(10,3))            # %  : 나머지\n",
    "print(np.power(2,5))\n",
    "print(np.abs(-30))"
   ]
  },
  {
   "cell_type": "code",
   "execution_count": 85,
   "metadata": {},
   "outputs": [
    {
     "name": "stdout",
     "output_type": "stream",
     "text": [
      "3.141592653589793\n",
      "theta         =  [0.         1.57079633 3.14159265]\n",
      "sin(theta)    =  [0.0000000e+00 1.0000000e+00 1.2246468e-16]\n",
      "arctan(theta) =  [0.         1.00388482 1.26262726]\n",
      "x     =  [1, 2, 3]\n",
      "e^x   =  [ 2.71828183  7.3890561  20.08553692]\n",
      "ln(x) =  [0.         0.69314718 1.09861229]\n"
     ]
    }
   ],
   "source": [
    "### array 삼각함수, 지수와 로그\n",
    "\n",
    "print(np.pi)\n",
    "theta = np.linspace(0, np.pi, 3)    # 0과 3.14사이 등간격을 가진 3개의 숫자\n",
    "print(\"theta         = \", theta)\n",
    "print(\"sin(theta)    = \", np.sin(theta))\n",
    "print(\"arctan(theta) = \", np.arctan(theta))\n",
    "x = [1,2,3]\n",
    "print(\"x     = \", x)\n",
    "print(\"e^x   = \", np.exp(x))\n",
    "print(\"ln(x) = \", np.log(x))"
   ]
  },
  {
   "cell_type": "code",
   "execution_count": 90,
   "metadata": {},
   "outputs": [
    {
     "name": "stdout",
     "output_type": "stream",
     "text": [
      "15\n",
      "120\n",
      "[ 1  3  6 10 15]\n",
      "[  1   2   6  24 120]\n"
     ]
    }
   ],
   "source": [
    "### 특화된 유니버셜 함수\n",
    "# scipy.special에서 통계학에서 등장할법한 특화된 유니버셜 함수를 사용할 수 있다.\n",
    "# from scipy import special로 불러들인 후, special.gamma(x)등으로 사용할 수 있다.\n",
    "\n",
    "### 고급 ufunc 기능\n",
    "# out인수를 사용해서, 계산 결과 출력을 지정할 수 있다.\n",
    "# 이를 통해, 대규모 array에서 메모리를 절약할 수 있다.\n",
    "\n",
    "### 집계\n",
    "# reduce : 결과가 하나만 남을 때까지 해당 연산을 array 요소에 반복해서 적용한다.\n",
    "x = np.arange(1,6)\n",
    "print(np.add.reduce(x))\n",
    "print(np.multiply.reduce(x))\n",
    "# accumulate : 계산의 중간 결과를 모두 저장하고 싶다면,\n",
    "print(np.add.accumulate(x))\n",
    "print(np.multiply.accumulate(x))\n",
    "# 위의 두 경우에는 np.sum과 np.prod, np.cumsum, np.cumprod로 대체할 수 있다."
   ]
  },
  {
   "cell_type": "code",
   "execution_count": 95,
   "metadata": {},
   "outputs": [
    {
     "name": "stdout",
     "output_type": "stream",
     "text": [
      "[[0 1 5 9]\n",
      " [3 0 5 0]]\n",
      "[0 0 5 0]\n",
      "[0 0]\n"
     ]
    }
   ],
   "source": [
    "##### 집계의 모든 것 (p67)\n",
    "# np.sum, np.min, np.max\n",
    "M = np.random.randint(0, 10, (2,4))\n",
    "print(M)\n",
    "print(M.min(axis=0))   # 각 열의 최솟값을 찾으려면 axis=0\n",
    "print(M.min(axis=1))   # 각 행의 최솟값을 찾으려면 axis=1\n",
    "# axis는 축소할 배열의 차원을 지정한다. 따라서 axis=0 : 첫번째축(행)을 축소한다는 의미가 된다.\n",
    "\n",
    "# 추가적으로, 누락된 값을 무시한 채 값을 계산하는 NaN안전모드가 있다.(p70)"
   ]
  },
  {
   "cell_type": "code",
   "execution_count": null,
   "metadata": {},
   "outputs": [],
   "source": [
    "####################################################################################################################################"
   ]
  },
  {
   "cell_type": "code",
   "execution_count": null,
   "metadata": {},
   "outputs": [],
   "source": [
    "##### array연산 : 브로드캐스팅 (p73)\n",
    "\n",
    "# 벡터화 연산의 또 다른 방법으로 numpy의 브로드캐스팅 기능을 사용할 수 있다.\n",
    "# 브로드캐스팅 : 단지 다른 크기의 array의 이항 유니버셜 함수를 적용하기 위한 규칙의 집합"
   ]
  },
  {
   "cell_type": "code",
   "execution_count": 3,
   "metadata": {},
   "outputs": [
    {
     "data": {
      "text/plain": [
       "array([5, 6, 7])"
      ]
     },
     "execution_count": 3,
     "metadata": {},
     "output_type": "execute_result"
    }
   ],
   "source": [
    "a = np.array([0,1,2])\n",
    "a + 5                    # 여기서 5가 [5,5,5]처럼 연산이 된 것으로\n",
    "# 브로드캐스팅의 이점은 이 값 복제가 실제로 발생하지 않는다는 것."
   ]
  },
  {
   "cell_type": "code",
   "execution_count": null,
   "metadata": {},
   "outputs": [],
   "source": [
    "####################################################################################################################################"
   ]
  },
  {
   "cell_type": "code",
   "execution_count": 4,
   "metadata": {},
   "outputs": [
    {
     "data": {
      "text/plain": [
       "array([ True,  True, False, False, False])"
      ]
     },
     "execution_count": 4,
     "metadata": {},
     "output_type": "execute_result"
    }
   ],
   "source": [
    "##### 비교, 마스크, 부울 로직 (p80)\n",
    "\n",
    "x = np.array([1,2,3,4,5])\n",
    "x < 3\n",
    "# 비교 연산자도 여러 유니버셜 함수가 있음(p83)"
   ]
  },
  {
   "cell_type": "code",
   "execution_count": 5,
   "metadata": {},
   "outputs": [
    {
     "data": {
      "text/plain": [
       "2"
      ]
     },
     "execution_count": 5,
     "metadata": {},
     "output_type": "execute_result"
    }
   ],
   "source": [
    "np.count_nonzero(x < 3)      # True요소의 개수를 셀 때 np.count_nonzero가 유용하다."
   ]
  },
  {
   "cell_type": "code",
   "execution_count": 6,
   "metadata": {},
   "outputs": [
    {
     "data": {
      "text/plain": [
       "True"
      ]
     },
     "execution_count": 6,
     "metadata": {},
     "output_type": "execute_result"
    }
   ],
   "source": [
    "np.any(x>4)                  # x중 4보다 큰 값이 하나라도 있는가?"
   ]
  },
  {
   "cell_type": "code",
   "execution_count": 12,
   "metadata": {},
   "outputs": [
    {
     "name": "stdout",
     "output_type": "stream",
     "text": [
      "[[5 0 3 3]\n",
      " [7 9 3 5]\n",
      " [2 4 7 6]]\n",
      "[[False  True  True  True]\n",
      " [False False  True False]\n",
      " [ True  True False False]]\n",
      "[0 3 3 3 2 4]\n"
     ]
    }
   ],
   "source": [
    "# 마스킹 연산 : array에서 조건에 맞는 값들을 선택하기 위해, 부울 배열을 인덱스로 사용하는것\n",
    "x = np.array([[5,0,3,3],[7,9,3,5],[2,4,7,6]])\n",
    "print(x)\n",
    "print(x<5)\n",
    "print(x[x<5])       # 이게 마스킹 연산 => 1차원 array로 됨"
   ]
  },
  {
   "cell_type": "code",
   "execution_count": null,
   "metadata": {},
   "outputs": [],
   "source": [
    "####################################################################################################################################"
   ]
  },
  {
   "cell_type": "code",
   "execution_count": 15,
   "metadata": {},
   "outputs": [
    {
     "data": {
      "text/plain": [
       "array([1, 3, 5])"
      ]
     },
     "execution_count": 15,
     "metadata": {},
     "output_type": "execute_result"
    }
   ],
   "source": [
    "##### 팬시인덱싱\n",
    "# 한 번에 여러 array 요소에 접근하기 위해 인덱스의 배열을 전달하는 것,\n",
    "x = np.array([1,2,3,4,5])\n",
    "ind = [0,2,4]\n",
    "x[ind]"
   ]
  },
  {
   "cell_type": "code",
   "execution_count": 29,
   "metadata": {},
   "outputs": [
    {
     "name": "stdout",
     "output_type": "stream",
     "text": [
      "[10  8  9]\n",
      "[[ 6  4  5]\n",
      " [10  8  9]]\n"
     ]
    }
   ],
   "source": [
    "x = np.array([[0,1,2,3],[4,5,6,7],[8,9,10,11]])\n",
    "# 팬시인덱스와 단순 인덱스를 결합할 수 있다\n",
    "print(x[2, [2,0,1]])\n",
    "# 팬시 인덱싱과 슬라이싱을 결합할 수 있다.\n",
    "print(x[1:, [2,0,1]])\n",
    "# 팬시 인덱싱과 마스킹을 결합할 수 있다.\n"
   ]
  },
  {
   "cell_type": "code",
   "execution_count": 34,
   "metadata": {},
   "outputs": [
    {
     "name": "stdout",
     "output_type": "stream",
     "text": [
      "[1 2 3 4 5]\n",
      "[3 4 2 1 0]\n"
     ]
    }
   ],
   "source": [
    "### 배열 정렬\n",
    "x = np.array([5,4,3,1,2])\n",
    "print(np.sort(x))\n",
    "i = np.argsort(x)    # 인덱스를 반환\n",
    "print(i)"
   ]
  },
  {
   "cell_type": "code",
   "execution_count": 37,
   "metadata": {},
   "outputs": [
    {
     "name": "stdout",
     "output_type": "stream",
     "text": [
      "[[1 3 2]\n",
      " [3 1 2]]\n",
      "[[1 2 3]\n",
      " [1 2 3]]\n"
     ]
    }
   ],
   "source": [
    "# 행이나 열 기준으로 정렬하기\n",
    "x = np.array([[1,3,2],[3,1,2]])\n",
    "print(x)\n",
    "print(np.sort(x, axis=1))"
   ]
  }
 ],
 "metadata": {
  "kernelspec": {
   "display_name": "Python 3",
   "language": "python",
   "name": "python3"
  },
  "language_info": {
   "codemirror_mode": {
    "name": "ipython",
    "version": 3
   },
   "file_extension": ".py",
   "mimetype": "text/x-python",
   "name": "python",
   "nbconvert_exporter": "python",
   "pygments_lexer": "ipython3",
   "version": "3.7.3"
  }
 },
 "nbformat": 4,
 "nbformat_minor": 2
}
