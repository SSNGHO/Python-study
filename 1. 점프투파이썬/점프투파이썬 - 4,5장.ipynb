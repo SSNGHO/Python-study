{
 "cells": [
  {
   "cell_type": "code",
   "execution_count": null,
   "metadata": {},
   "outputs": [],
   "source": [
    "# Ch 4. 프로그램의 입력과 출력"
   ]
  },
  {
   "cell_type": "code",
   "execution_count": 1,
   "metadata": {},
   "outputs": [
    {
     "data": {
      "text/plain": [
       "8"
      ]
     },
     "execution_count": 1,
     "metadata": {},
     "output_type": "execute_result"
    }
   ],
   "source": [
    "# (1) 함수\n",
    "# def 함수이름(매개변수):\n",
    "#     수행할 문장\n",
    "#     return 결과값\n",
    "\n",
    "# 입력값과 결과값이 있는 일반적인 함수의 예시\n",
    "def myaddfunction(a, b):\n",
    "    result = a+b\n",
    "    return result\n",
    "\n",
    "myaddfunction(3,5)"
   ]
  },
  {
   "cell_type": "code",
   "execution_count": null,
   "metadata": {},
   "outputs": [],
   "source": [
    "# 매개변수(parameter) : 함수에 입력으로 전달된 값을 받는 변수 (위에서는 a와 b)\n",
    "# 인수(arguments) : 함수를 호출 할 때 전달하는 입력값 (위에서는 3과 5)\n",
    "# 결과값은 오직 return문으로만 받을 수 있다"
   ]
  },
  {
   "cell_type": "code",
   "execution_count": 2,
   "metadata": {},
   "outputs": [
    {
     "data": {
      "text/plain": [
       "15"
      ]
     },
     "execution_count": 2,
     "metadata": {},
     "output_type": "execute_result"
    }
   ],
   "source": [
    "# 입력값이 여러개일 때 : 매개변수 앞에 *을 붙이면 됨 (*abc, *sh 등 다 가능)\n",
    "\n",
    "def add_many(*args):\n",
    "    result = 0\n",
    "    for i in args:\n",
    "        result = result + i\n",
    "    return result\n",
    "\n",
    "add_many(1,2,3,4,5)"
   ]
  },
  {
   "cell_type": "code",
   "execution_count": 8,
   "metadata": {},
   "outputs": [
    {
     "name": "stdout",
     "output_type": "stream",
     "text": [
      "{'a': 3}\n",
      "None\n",
      "{'a': 2, 'b': 4}\n",
      "None\n"
     ]
    }
   ],
   "source": [
    "# 키워드 파라미터 : 매개변수 앞에 **을 붙이면 됨\n",
    "# 매개변수는 딕셔너리가 되고, key=value 형태의 결과값이 딕셔너리에 저장됨\n",
    "\n",
    "def print_kwargs(**kwargs):\n",
    "    print(kwargs)\n",
    "    \n",
    "print(print_kwargs(a=3))\n",
    "print(print_kwargs(a=2, b=4))"
   ]
  },
  {
   "cell_type": "code",
   "execution_count": null,
   "metadata": {},
   "outputs": [],
   "source": [
    "# 함수의 결과값은 하나뿐!!! \n",
    "# return문을 만나는 순간 결과값을 돌려준 다음 함수를 빠져나가게 된다."
   ]
  },
  {
   "cell_type": "code",
   "execution_count": 10,
   "metadata": {},
   "outputs": [
    {
     "data": {
      "text/plain": [
       "7"
      ]
     },
     "execution_count": 10,
     "metadata": {},
     "output_type": "execute_result"
    }
   ],
   "source": [
    "# p166. lambda : 함수를 생성할 때 사용하는 예약어로 def와 동일한 역할을 한다.\n",
    "\n",
    "addlam = lambda a,b: a+b\n",
    "addlam(3,4)"
   ]
  },
  {
   "cell_type": "code",
   "execution_count": 13,
   "metadata": {},
   "outputs": [
    {
     "name": "stdout",
     "output_type": "stream",
     "text": [
      "숫자를 입력하세요 : 3\n",
      "3\n"
     ]
    }
   ],
   "source": [
    "# (2) 사용자의 입력과 출력\n",
    "\n",
    "number = input(\"숫자를 입력하세요 : \")\n",
    "print(number)"
   ]
  },
  {
   "cell_type": "code",
   "execution_count": 14,
   "metadata": {},
   "outputs": [
    {
     "name": "stdout",
     "output_type": "stream",
     "text": [
      "0 1 2 3 4 5 6 7 8 9 "
     ]
    }
   ],
   "source": [
    "# 한 줄에 결과값을 계속 이어서 출력하려면 매개변수 end를 사용하여 끝 문자를 지정해주면 된다\n",
    "for i in range(10):\n",
    "    print(i, end=' ')"
   ]
  },
  {
   "cell_type": "code",
   "execution_count": null,
   "metadata": {},
   "outputs": [],
   "source": [
    "# (3) 파일 읽고 쓰기"
   ]
  },
  {
   "cell_type": "code",
   "execution_count": null,
   "metadata": {},
   "outputs": [],
   "source": [
    "#################################################################################################################################"
   ]
  },
  {
   "cell_type": "code",
   "execution_count": null,
   "metadata": {},
   "outputs": [],
   "source": [
    "# Ch 5. 클래스, 모듈, 패키지 등"
   ]
  },
  {
   "cell_type": "code",
   "execution_count": 17,
   "metadata": {},
   "outputs": [],
   "source": [
    "# (1) 클래스\n",
    "# 클래스(class)는 똑같은 무언가를 계속해서 만들어낼 수 있는 과자틀이라고 생각하면 되고\n",
    "# 객체(object)는 클래스로 만든 과자라고 생각하면 됨.\n",
    "\n",
    "class cookie:\n",
    "    pass\n",
    "a = cookie()\n",
    "b = cookie()\n",
    "# 1개의 클래스는 무수히 많은 객체를 만들어 낼 수 있다.\n",
    "# cookie()의 결과값을 돌려받은 a와 b가 객체(object)이다.\n",
    "# 클래스로 만듣 객체를 인스턴스라고 한다. (특정 객체a가 어떤 클래스(cookie)의 객체인지 관계 위주로 설명할 때 사용한다)\n",
    "# a는 인스턴스라는 말보다, a는 객체라는 말이 어울리고\n",
    "# a는 cookie의 객체라는 말보다, a는 cookie의 인스턴스라는 말이 어울린다."
   ]
  },
  {
   "cell_type": "code",
   "execution_count": 18,
   "metadata": {},
   "outputs": [],
   "source": [
    "# 사칙연산 클래스 만들기\n",
    "# 클래스 안에 구현된 함수는 메서드(method)라고 한다\n",
    "\n",
    "class calculator:\n",
    "    def setdata(a, first, second):         # setdata 메서드의 매개변수\n",
    "        a.first = first                    # setdata 메서드의 수행문\n",
    "        a.second = second\n",
    "# 파이썬 메서드의 첫 번째 매개변수 이름은 관례적으로 self를 사용한다.(여기선 그냥 보기쉽게 self대신 a를 씀)"
   ]
  },
  {
   "cell_type": "code",
   "execution_count": 20,
   "metadata": {},
   "outputs": [
    {
     "name": "stdout",
     "output_type": "stream",
     "text": [
      "4\n"
     ]
    }
   ],
   "source": [
    "b = calculator()\n",
    "b.setdata(4,2)\n",
    "print(b.first)           # calculator클래스로 만든 b객체에, first와 second 객체변수가 생성되었음을 확인할 수 있음."
   ]
  },
  {
   "cell_type": "code",
   "execution_count": 24,
   "metadata": {},
   "outputs": [
    {
     "name": "stdout",
     "output_type": "stream",
     "text": [
      "10\n",
      "0\n"
     ]
    }
   ],
   "source": [
    "class calculator:\n",
    "    def setdata(self, first, second):       \n",
    "        self.first = first                   \n",
    "        self.second = second\n",
    "    def add(self):\n",
    "        result = self.first + self.second\n",
    "        return result\n",
    "    def sub(self):\n",
    "        result = self.first - self.second\n",
    "        return result\n",
    "    \n",
    "c = calculator()\n",
    "c.setdata(5,5)\n",
    "print(c.add())\n",
    "print(c.sub())"
   ]
  },
  {
   "cell_type": "code",
   "execution_count": 27,
   "metadata": {},
   "outputs": [
    {
     "name": "stdout",
     "output_type": "stream",
     "text": [
      "5\n",
      "1\n"
     ]
    }
   ],
   "source": [
    "# 객체에 초깃값을 설정해야 할 필요가 있을 때, setdata를 이용하기 보다 생성자(constructo)를 구현하는 것이 안전하다\n",
    "# __init__ : 이 메서드는 생성자가 된다.\n",
    "\n",
    "class calculator:\n",
    "    def __init__(self, first, second):     # constructor 구현      \n",
    "        self.first = first                   \n",
    "        self.second = second\n",
    "    def setdata(self, first, second):       \n",
    "        self.first = first                   \n",
    "        self.second = second\n",
    "    def add(self):\n",
    "        result = self.first + self.second\n",
    "        return result\n",
    "    def sub(self):\n",
    "        result = self.first - self.second\n",
    "        return result\n",
    "    \n",
    "# 생성자로 인식되어, 객체가 생성되는 시점에 자동으로 호출이 된다.\n",
    "\n",
    "d = calculator(3,2)\n",
    "print(d.add())\n",
    "print(d.sub())"
   ]
  },
  {
   "cell_type": "code",
   "execution_count": 30,
   "metadata": {},
   "outputs": [
    {
     "name": "stdout",
     "output_type": "stream",
     "text": [
      "5\n",
      "8\n"
     ]
    }
   ],
   "source": [
    "# p201. 클래스의 상속\n",
    "# 어떤 클래스를 만들 때 다른 클래스의 기능을 물려받을 수 있게 만드는것\n",
    "# class 클래스 이름(상속할 클래스 이름)\n",
    "\n",
    "class morecal(calculator):\n",
    "    def power(self):\n",
    "        result = self.first ** self.second\n",
    "        return result\n",
    "\n",
    "e = morecal(2,3)\n",
    "print(e.add())\n",
    "print(e.power())"
   ]
  },
  {
   "cell_type": "code",
   "execution_count": 32,
   "metadata": {},
   "outputs": [
    {
     "name": "stdout",
     "output_type": "stream",
     "text": [
      "김\n",
      "김\n",
      "박\n",
      "박\n"
     ]
    }
   ],
   "source": [
    "# p205. 클래스 변수  (별로 중요하진 않음)\n",
    "\n",
    "# 객체변수는 다른 객체들에 영향받지 않고 독립적으로 그 값을 유지한다.\n",
    "# 객체변수와 성격이 다른 클래스 변수를 알아보자.\n",
    "class family:\n",
    "    lastname = \"김\"\n",
    "a = family()\n",
    "b = family()\n",
    "print(a.lastname)\n",
    "print(b.lastname)\n",
    "\n",
    "family.lastname = \"박\"\n",
    "print(a.lastname)\n",
    "print(b.lastname)"
   ]
  },
  {
   "cell_type": "code",
   "execution_count": null,
   "metadata": {},
   "outputs": [],
   "source": [
    "#####################################################################################################################################"
   ]
  },
  {
   "cell_type": "code",
   "execution_count": null,
   "metadata": {},
   "outputs": [],
   "source": [
    "# (2) 모듈\n",
    "# 모듈 : 함수, 변수, 클래스를 모아 놓은 파일\n",
    "# .py로 끝나는거.  파이썬 파일이라고도 할 수 있다."
   ]
  },
  {
   "cell_type": "code",
   "execution_count": null,
   "metadata": {},
   "outputs": [],
   "source": [
    "# (3) 패키지\n",
    "# 패키지는 도트(.)를 사용하여, 파이썬 모듈을 계층적으로 관리할 수 있게 해준다."
   ]
  },
  {
   "cell_type": "code",
   "execution_count": null,
   "metadata": {},
   "outputs": [],
   "source": [
    "#####################################################################################################################################"
   ]
  },
  {
   "cell_type": "code",
   "execution_count": 34,
   "metadata": {},
   "outputs": [
    {
     "name": "stdout",
     "output_type": "stream",
     "text": [
      "division by zero\n"
     ]
    }
   ],
   "source": [
    "# (4) 예외 처리\n",
    "\n",
    "# try:\n",
    "#    ....\n",
    "# except [발생 오류[as 오류 메시지 변수]]:\n",
    "#    ....\n",
    "\n",
    "# try 수행 중 오류가 발생하면 except 블록이 수행되고, 오류가 발생하지 않으면 except 블록은 수행되지 않는다.\n",
    "\n",
    "try:\n",
    "    4/0\n",
    "except ZeroDivisionError as e:\n",
    "    print(e)"
   ]
  },
  {
   "cell_type": "code",
   "execution_count": null,
   "metadata": {},
   "outputs": [],
   "source": [
    "#####################################################################################################################################"
   ]
  },
  {
   "cell_type": "code",
   "execution_count": 2,
   "metadata": {},
   "outputs": [
    {
     "name": "stdout",
     "output_type": "stream",
     "text": [
      "0 apple\n",
      "1 bear\n",
      "2 cat\n"
     ]
    }
   ],
   "source": [
    "# (5) 내장 함수\n",
    "\n",
    "# print, del, type등은 외부 모듈과 달리 import가 필요하지 않기 때문에 아무런 설정 없이 바로 사용 가능하다.\n",
    "\n",
    "# all : 모두 참이면 True를, 거짓이 하나라도 있으면 False를 돌려준다\n",
    "# any : 하나라도 참이면 True를, 모두 거짓이면 False를 돌려준다.\n",
    "# enumerate : 인덱스 값을 포함하는 enumerate 객체를 돌려줌. 보통 for문과 같이 사용하면 유용\n",
    "for i, name in enumerate(['apple','bear','cat']):\n",
    "                          print(i, name)"
   ]
  },
  {
   "cell_type": "code",
   "execution_count": 5,
   "metadata": {},
   "outputs": [
    {
     "data": {
      "text/plain": [
       "[1, 2, 6]"
      ]
     },
     "execution_count": 5,
     "metadata": {},
     "output_type": "execute_result"
    }
   ],
   "source": [
    "# filter : 반환값이 참인 것만 걸러서 돌려주는 역할 (코드를 간단하게 짜고 싶을 때 유용할듯)\n",
    "# filter(함수, 자료형)\n",
    "# 예시 : 양수를 돌려주는\n",
    "list(filter(lambda x: x>0, [1,-3,2,0,-5,6]))"
   ]
  },
  {
   "cell_type": "code",
   "execution_count": 6,
   "metadata": {},
   "outputs": [
    {
     "data": {
      "text/plain": [
       "[2, 4, 6, 8]"
      ]
     },
     "execution_count": 6,
     "metadata": {},
     "output_type": "execute_result"
    }
   ],
   "source": [
    "# map : 입력받은 자료형의 각 요소에 함수를 수행한 결과를 돌려줌\n",
    "# map(함수, 자료형)\n",
    "list(map(lambda x: x*2, [1,2,3,4]))"
   ]
  },
  {
   "cell_type": "code",
   "execution_count": 7,
   "metadata": {},
   "outputs": [
    {
     "data": {
      "text/plain": [
       "[1, 3, 5, 7, 9]"
      ]
     },
     "execution_count": 7,
     "metadata": {},
     "output_type": "execute_result"
    }
   ],
   "source": [
    "# range(start, stop, step)\n",
    "list(range(1,10,2))"
   ]
  },
  {
   "cell_type": "code",
   "execution_count": 8,
   "metadata": {},
   "outputs": [
    {
     "data": {
      "text/plain": [
       "[(1, 'a'), (2, 'b'), (3, 'c')]"
      ]
     },
     "execution_count": 8,
     "metadata": {},
     "output_type": "execute_result"
    }
   ],
   "source": [
    "# zip : 동일한 개수로 이루어진 자료형을 쌍을 지어주는 역할\n",
    "list(zip([1,2,3],[\"a\",\"b\",\"c\"]))"
   ]
  },
  {
   "cell_type": "code",
   "execution_count": null,
   "metadata": {},
   "outputs": [],
   "source": [
    "#####################################################################################################################################"
   ]
  },
  {
   "cell_type": "code",
   "execution_count": 16,
   "metadata": {},
   "outputs": [
    {
     "data": {
      "text/plain": [
       "1579415733.2497606"
      ]
     },
     "execution_count": 16,
     "metadata": {},
     "output_type": "execute_result"
    }
   ],
   "source": [
    "# (6) 외장 함수\n",
    "\n",
    "# time : 1970년 1월 1일을 기준으로 지난 시간을 초단위로 보여줌\n",
    "import time\n",
    "print(time.time())"
   ]
  },
  {
   "cell_type": "code",
   "execution_count": 18,
   "metadata": {},
   "outputs": [
    {
     "name": "stdout",
     "output_type": "stream",
     "text": [
      "0.02131648039171763\n",
      "5\n"
     ]
    }
   ],
   "source": [
    "# random\n",
    "import random\n",
    "print(random.random())        # 0부터 1사이의 실수 중 난수 값을 돌려주는 예\n",
    "print(random.randint(1,10))   # 1부터 10사이의 정수 중 난수 값을 돌려주는 예"
   ]
  }
 ],
 "metadata": {
  "kernelspec": {
   "display_name": "Python 3",
   "language": "python",
   "name": "python3"
  },
  "language_info": {
   "codemirror_mode": {
    "name": "ipython",
    "version": 3
   },
   "file_extension": ".py",
   "mimetype": "text/x-python",
   "name": "python",
   "nbconvert_exporter": "python",
   "pygments_lexer": "ipython3",
   "version": "3.7.3"
  }
 },
 "nbformat": 4,
 "nbformat_minor": 2
}
