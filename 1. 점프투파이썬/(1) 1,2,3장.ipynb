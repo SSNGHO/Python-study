{
 "cells": [
  {
   "cell_type": "code",
   "execution_count": null,
   "metadata": {},
   "outputs": [],
   "source": [
    "# 20.01.17 ~ \n",
    "# Python공부 1단계\n",
    "# 점프 투 파이썬 빠르게 복습"
   ]
  },
  {
   "cell_type": "code",
   "execution_count": null,
   "metadata": {},
   "outputs": [],
   "source": [
    "#######################################################################################################################################"
   ]
  },
  {
   "cell_type": "code",
   "execution_count": null,
   "metadata": {},
   "outputs": [],
   "source": [
    "# 2장. 파이썬 프로그래밍의 기초, 자료형"
   ]
  },
  {
   "cell_type": "code",
   "execution_count": null,
   "metadata": {},
   "outputs": [],
   "source": [
    "# (1) 숫자형\n",
    "# 숫자형에는 정수형(Integer), 실수형(Floating-point), 8진수, 16진수 등이 있다.\n",
    "\n",
    "# (2) 문자형\n",
    "# 문자형을 나타낼 때는 \"string\", 'string', \"\"\"string\"\"\", '''string''' 이 4가지 방식을 쓰면 된다.\n",
    "# 방식이 4자기나 되는 이유는 \"나, '를 문자열안에 포함시키고 싶을 때가 있을수도 있기 때문에.\n",
    "# 문자열은 연산이 가능하고, 인덱싱과 슬라이싱이 가능하다."
   ]
  },
  {
   "cell_type": "code",
   "execution_count": 3,
   "metadata": {},
   "outputs": [
    {
     "data": {
      "text/plain": [
       "'\\n이렇게 여러줄인 문자열을\\n한 번에 삽입할 수 있다\\n'"
      ]
     },
     "execution_count": 3,
     "metadata": {},
     "output_type": "execute_result"
    }
   ],
   "source": [
    "multiline = \"\"\"\n",
    "이렇게 여러줄인 문자열을\n",
    "한 번에 삽입할 수 있다\n",
    "\"\"\"\n",
    "multiline"
   ]
  },
  {
   "cell_type": "code",
   "execution_count": 4,
   "metadata": {},
   "outputs": [
    {
     "name": "stdout",
     "output_type": "stream",
     "text": [
      "\n",
      "    life \n",
      " is \t too \\ short\n",
      "    you need python\n",
      "\n"
     ]
    }
   ],
   "source": [
    "abc=\"\"\"\n",
    "    life \\n is \\t too \\\\ short\n",
    "    you need python\n",
    "\"\"\"\n",
    "print(abc)"
   ]
  },
  {
   "cell_type": "code",
   "execution_count": 9,
   "metadata": {},
   "outputs": [
    {
     "data": {
      "text/plain": [
       "'Python'"
      ]
     },
     "execution_count": 9,
     "metadata": {},
     "output_type": "execute_result"
    }
   ],
   "source": [
    "# p56. Q.Pithon이라는 문자열을 Python으로 바꾸려면?\n",
    "\n",
    "a = 'Pithon'\n",
    "a[0] + \"y\" + a[2:]"
   ]
  },
  {
   "cell_type": "code",
   "execution_count": 10,
   "metadata": {},
   "outputs": [
    {
     "data": {
      "text/plain": [
       "'I ate 10 apples. So I was sick for three days.'"
      ]
     },
     "execution_count": 10,
     "metadata": {},
     "output_type": "execute_result"
    }
   ],
   "source": [
    "# p58. 문자열 formatting\n",
    "\n",
    "number = 10\n",
    "day = 'three'\n",
    "\"I ate %d apples. So I was sick for %s days.\" % (number, day)\n",
    "# %d : 정수\n",
    "# %s : 문자열\n",
    "# %f : 실수"
   ]
  },
  {
   "cell_type": "code",
   "execution_count": 12,
   "metadata": {},
   "outputs": [
    {
     "data": {
      "text/plain": [
       "'실수표현 : 3.1416'"
      ]
     },
     "execution_count": 12,
     "metadata": {},
     "output_type": "execute_result"
    }
   ],
   "source": [
    "\"실수표현 : %0.4f\" % 3.141592"
   ]
  },
  {
   "cell_type": "code",
   "execution_count": 16,
   "metadata": {},
   "outputs": [
    {
     "name": "stdout",
     "output_type": "stream",
     "text": [
      "I ate 1 apples. So I was sick for 3days.\n",
      "I ate 1\n",
      "I ate 3 apples. So I was sick for 3days.\n",
      "I ate 3\n",
      "I ate 5 apples. So I was sick for 3days.\n",
      "I ate 5\n"
     ]
    }
   ],
   "source": [
    "# p63. format함수를 사용한 문자열 formatting 응용\n",
    "for number in [1,3,5]:\n",
    "    print(\"I ate {0} apples. So I was sick for {1}days.\".format(number, 3))\n",
    "    print(f'I ate {number}')"
   ]
  },
  {
   "cell_type": "code",
   "execution_count": 24,
   "metadata": {},
   "outputs": [
    {
     "name": "stdout",
     "output_type": "stream",
     "text": [
      "2\n",
      "4\n"
     ]
    }
   ],
   "source": [
    "# p67. 문자열 관련 함수 - count, find\n",
    "a = \"hobby\"\n",
    "print(a.count('b'))\n",
    "print(a.find('y'))"
   ]
  },
  {
   "cell_type": "code",
   "execution_count": 22,
   "metadata": {},
   "outputs": [
    {
     "data": {
      "text/plain": [
       "'a,b,c,d'"
      ]
     },
     "execution_count": 22,
     "metadata": {},
     "output_type": "execute_result"
    }
   ],
   "source": [
    "# p67. 문자열 관련 함수 - join\n",
    "\",\".join('abcd')"
   ]
  },
  {
   "cell_type": "code",
   "execution_count": 32,
   "metadata": {},
   "outputs": [
    {
     "name": "stdout",
     "output_type": "stream",
     "text": [
      " HOBBY SPORTS \n",
      " hobby sports \n",
      "Hobby spOrts\n",
      " like spOrts \n",
      "['Hobby', 'spOrts']\n"
     ]
    }
   ],
   "source": [
    "# p67. 문자열 관련 함수 - upper, lower, strip, replace, split\n",
    "a = \" Hobby spOrts \"\n",
    "print(a.upper())\n",
    "print(a.lower())\n",
    "print(a.strip())\n",
    "print(a.replace(\"Hobby\", \"like\"))\n",
    "print(a.split())   # 공백을 기준으로 문자열을 나눔"
   ]
  },
  {
   "cell_type": "code",
   "execution_count": 42,
   "metadata": {},
   "outputs": [
    {
     "name": "stdout",
     "output_type": "stream",
     "text": [
      "[1, 3, 2, 4]\n",
      "[1, 2, 3, 4]\n",
      "[4, 3, 2, 1]\n"
     ]
    },
    {
     "data": {
      "text/plain": [
       "3"
      ]
     },
     "execution_count": 42,
     "metadata": {},
     "output_type": "execute_result"
    }
   ],
   "source": [
    "# p80. (3) 리스트 관련 함수 - append, sort, reverse, index\n",
    "a = [1,3,2]\n",
    "\n",
    "a.append(4)\n",
    "print(a)\n",
    "a.sort()\n",
    "print(a)\n",
    "a.reverse()\n",
    "print(a)\n",
    "a.index(1)  # 리스트에 1값이 있으면 1의 index(위치 값)를 돌려줌"
   ]
  },
  {
   "cell_type": "code",
   "execution_count": 50,
   "metadata": {},
   "outputs": [
    {
     "name": "stdout",
     "output_type": "stream",
     "text": [
      "[1, 50, 2, 3]\n",
      "[1, 2, 3]\n",
      "[1, 2]\n",
      "1\n",
      "[1, 2]\n",
      "[1, 2, 4, 5]\n"
     ]
    }
   ],
   "source": [
    "# p82. (3) 리스트 관련 함수 - insert, remove, pop, count, extend\n",
    "a = [1,2,3]\n",
    "a.insert(1,50)  # a의 1위치에 50을 삽입\n",
    "print(a)\n",
    "a.remove(50)    # a에서 첫번째로 나오는 50을 삭제\n",
    "print(a)\n",
    "a.pop()         # 리스트의 가장 마지막 요소를 돌려주고, 그 요소는 삭제\n",
    "print(a)\n",
    "print(a.count(2))  # a에 2가 몇개있는지를 세줌\n",
    "\n",
    "print(a)\n",
    "a.extend([4,5])\n",
    "print(a)"
   ]
  },
  {
   "cell_type": "code",
   "execution_count": 52,
   "metadata": {},
   "outputs": [
    {
     "data": {
      "text/plain": [
       "(1, 2, 3, 4)"
      ]
     },
     "execution_count": 52,
     "metadata": {},
     "output_type": "execute_result"
    }
   ],
   "source": [
    "# p85. (4) 튜플형\n",
    "a = (1,2,3)\n",
    "b = (4,)\n",
    "a+b"
   ]
  },
  {
   "cell_type": "code",
   "execution_count": 55,
   "metadata": {},
   "outputs": [
    {
     "name": "stdout",
     "output_type": "stream",
     "text": [
      "{1: 'a', 3: 'c'}\n",
      "{3: 'c'}\n"
     ]
    }
   ],
   "source": [
    "# p88 (5) 딕셔너리\n",
    "# 딕셔너리의 key는 고유한 값이므로 중복되면 안됨\n",
    "\n",
    "a = {1:'a'}\n",
    "a[3] = 'c'     # 딕셔너리 쌍 추가하기\n",
    "print(a)\n",
    "del a[1]       # 딕셔너리 쌍 삭제하기\n",
    "print(a)"
   ]
  },
  {
   "cell_type": "code",
   "execution_count": 64,
   "metadata": {},
   "outputs": [
    {
     "name": "stdout",
     "output_type": "stream",
     "text": [
      "['name', 'phone', 'birth']\n",
      "dict_items([('name', 'pey'), ('phone', '010010010'), ('birth', '1111')])\n",
      "pey\n",
      "pey\n",
      "True\n"
     ]
    }
   ],
   "source": [
    "# p93. 딕셔너리 관련 함수 - keys, values, items(쌍을 튜플로 얻기), get, in\n",
    "\n",
    "a = {'name':'pey', 'phone':'010010010', 'birth':'1111'}\n",
    "a.keys()\n",
    "print(list(a.keys())) # key들을 list로 뽑아냄\n",
    "print(a.items())\n",
    "\n",
    "print(a['name'])\n",
    "print(a.get('name'))           # 둘의 차이는 만약 없는 key를 가져오려할 때 get은 None을 돌려주고, 위에꺼는 오류가 남\n",
    "\n",
    "print('name' in a)"
   ]
  },
  {
   "cell_type": "code",
   "execution_count": 68,
   "metadata": {},
   "outputs": [
    {
     "name": "stdout",
     "output_type": "stream",
     "text": [
      "{1, 2, 3}\n",
      "{'h', 'l', 'o', 'e'}\n"
     ]
    }
   ],
   "source": [
    "# p97. (6) 집합 자료형\n",
    "# 중복을 허용하지 않고, 순서가 없는 자료형임\n",
    "\n",
    "s1 = set([1,2,3,2])\n",
    "print(s1)\n",
    "s2 = set(\"hello\")\n",
    "print(s2)"
   ]
  },
  {
   "cell_type": "code",
   "execution_count": null,
   "metadata": {},
   "outputs": [],
   "source": [
    "# p102 (7) bool 자료형"
   ]
  },
  {
   "cell_type": "code",
   "execution_count": 69,
   "metadata": {},
   "outputs": [
    {
     "name": "stdout",
     "output_type": "stream",
     "text": [
      "2110877246856\n",
      "2110877246856\n"
     ]
    }
   ],
   "source": [
    "# p107. 변수\n",
    "\n",
    "a = [1,2,3]\n",
    "b = a\n",
    "print(id(a))\n",
    "print(id(b))   # 둘은 완전히 같음 : a를 수정하면 b도 수정됨"
   ]
  },
  {
   "cell_type": "code",
   "execution_count": 71,
   "metadata": {},
   "outputs": [
    {
     "name": "stdout",
     "output_type": "stream",
     "text": [
      "2110878242888\n"
     ]
    }
   ],
   "source": [
    "b = a[:]\n",
    "print(id(b))  # 이건 a변수의 값을 가져오면서, a와 다른 주소를 갖게 만듬"
   ]
  },
  {
   "cell_type": "code",
   "execution_count": null,
   "metadata": {},
   "outputs": [],
   "source": [
    "#######################################################################################################################################"
   ]
  },
  {
   "cell_type": "code",
   "execution_count": null,
   "metadata": {},
   "outputs": [],
   "source": [
    "# 3장. 제어문 (if, while, for)\n",
    "# if, for, while, def, class문에는 문장의 끝에 콜론(:)이 들어간다."
   ]
  },
  {
   "cell_type": "code",
   "execution_count": 72,
   "metadata": {},
   "outputs": [],
   "source": [
    "# (1) if문\n",
    "number = [1,2,3]\n",
    "if 1 in number:\n",
    "    pass"
   ]
  },
  {
   "cell_type": "code",
   "execution_count": 73,
   "metadata": {},
   "outputs": [
    {
     "name": "stdout",
     "output_type": "stream",
     "text": [
      "버스를 타고 가라\n"
     ]
    }
   ],
   "source": [
    "# elif는 이전 조건문이 거짓일 떄 수행이 된다!!!!\n",
    "\n",
    "pocket = ['paper', 'cellphone']\n",
    "card = True\n",
    "if 'money' in pocket:                 # pocket에 돈이 있으면,\n",
    "    print(\"택시를 타고 가라\") \n",
    "elif card:                            # pocket에 돈이 없고, 카드가 있으면\n",
    "    print(\"버스를 타고 가라\")\n",
    "else:                                 # pocket에 돈이 없고, 카드도 없으면\n",
    "    print(\"걸어가라\")"
   ]
  },
  {
   "cell_type": "code",
   "execution_count": 76,
   "metadata": {},
   "outputs": [
    {
     "name": "stdout",
     "output_type": "stream",
     "text": [
      "failure\n"
     ]
    }
   ],
   "source": [
    "# 조건부 표현식(conditional expression)\n",
    "message = \"success\" if 3 >= 60 else \"failure\"\n",
    "print(message)"
   ]
  },
  {
   "cell_type": "code",
   "execution_count": 78,
   "metadata": {},
   "outputs": [
    {
     "name": "stdout",
     "output_type": "stream",
     "text": [
      "나무를 1번 찍었습니다.\n",
      "나무를 2번 찍었습니다.\n",
      "나무를 3번 찍었습니다.\n",
      "나무를 4번 찍었습니다.\n",
      "나무를 5번 찍었습니다.\n",
      "나무를 6번 찍었습니다.\n",
      "나무를 7번 찍었습니다.\n",
      "나무를 8번 찍었습니다.\n",
      "나무를 9번 찍었습니다.\n",
      "나무를 10번 찍었습니다.\n",
      "나무 넘어갑니다\n"
     ]
    }
   ],
   "source": [
    "# (2) while문 : 조건문이 참인 동안에 while문 아래의 문장이 반복해서 수행된다.\n",
    "treeHit = 0\n",
    "while treeHit < 10:\n",
    "    treeHit += 1\n",
    "    print(f\"나무를 {treeHit}번 찍었습니다.\")\n",
    "    if treeHit == 10:\n",
    "        print(\"나무 넘어갑니다\")"
   ]
  },
  {
   "cell_type": "code",
   "execution_count": 79,
   "metadata": {},
   "outputs": [
    {
     "name": "stdout",
     "output_type": "stream",
     "text": [
      "1\n",
      "3\n",
      "5\n",
      "7\n",
      "9\n"
     ]
    }
   ],
   "source": [
    "# break : while문을 강제로 빠져나가게 할 수 있다.\n",
    "# continue : while문을 빠져나가지 않고, 중간에 맨 처음으로 돌아가게 만들기\\\n",
    "a = 0\n",
    "while a < 10:\n",
    "    a += 1\n",
    "    if a % 2 == 0: continue   # a를 2로 나누었을 때 나머지가 0이면 while문의 처음으로 돌아간다.\n",
    "    print(a)"
   ]
  },
  {
   "cell_type": "code",
   "execution_count": 81,
   "metadata": {},
   "outputs": [
    {
     "name": "stdout",
     "output_type": "stream",
     "text": [
      "1\n",
      "3\n",
      "5\n"
     ]
    }
   ],
   "source": [
    "# (3) for문\n",
    "a = [1,3,5]\n",
    "for i in a:\n",
    "    print(i)\n",
    "# for문에도 continue 사용 가능함"
   ]
  },
  {
   "cell_type": "code",
   "execution_count": 82,
   "metadata": {},
   "outputs": [
    {
     "name": "stdout",
     "output_type": "stream",
     "text": [
      "[6, 12]\n"
     ]
    }
   ],
   "source": [
    "# p144. List comprehension : 리스트 안에 for문을 포함\n",
    "# [표현식 for 항목 in 반복 가능 객체 if 조건]\n",
    "\n",
    "a = [1,2,3,4]\n",
    "result = [num*3  for num in a  if num%2==0]\n",
    "print(result)"
   ]
  }
 ],
 "metadata": {
  "kernelspec": {
   "display_name": "Python 3",
   "language": "python",
   "name": "python3"
  },
  "language_info": {
   "codemirror_mode": {
    "name": "ipython",
    "version": 3
   },
   "file_extension": ".py",
   "mimetype": "text/x-python",
   "name": "python",
   "nbconvert_exporter": "python",
   "pygments_lexer": "ipython3",
   "version": "3.7.3"
  }
 },
 "nbformat": 4,
 "nbformat_minor": 2
}
