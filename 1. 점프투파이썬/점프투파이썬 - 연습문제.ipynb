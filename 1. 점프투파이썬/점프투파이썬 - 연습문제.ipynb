{
 "cells": [
  {
   "cell_type": "code",
   "execution_count": null,
   "metadata": {},
   "outputs": [],
   "source": [
    "### 점프투파이썬 연습문제와 코딩면허테스트 중 어려운 것만 다시 품"
   ]
  },
  {
   "cell_type": "code",
   "execution_count": 7,
   "metadata": {},
   "outputs": [
    {
     "name": "stdout",
     "output_type": "stream",
     "text": [
      "a#b#c#d\n"
     ]
    }
   ],
   "source": [
    "# 2장-5 : 문자열의 특정부분 바꾸기\n",
    "\n",
    "a = \"a:b:c:d\"\n",
    "b = a.replace(\":\", \"#\")\n",
    "print(b)"
   ]
  },
  {
   "cell_type": "code",
   "execution_count": 8,
   "metadata": {},
   "outputs": [
    {
     "name": "stdout",
     "output_type": "stream",
     "text": [
      "life is too short\n"
     ]
    }
   ],
   "source": [
    "# 2장-7 : join함수\n",
    "\n",
    "a = ['life','is','too','short']\n",
    "result = \" \".join(a)\n",
    "print(result)"
   ]
  },
  {
   "cell_type": "code",
   "execution_count": null,
   "metadata": {},
   "outputs": [],
   "source": [
    "################################################################################################"
   ]
  },
  {
   "cell_type": "code",
   "execution_count": 9,
   "metadata": {},
   "outputs": [
    {
     "name": "stdout",
     "output_type": "stream",
     "text": [
      "[2, 6, 10]\n"
     ]
    }
   ],
   "source": [
    "# 3장-6 : 홀수에만 2를 곱하여 저장하는 list comprehension\n",
    "\n",
    "numbers = [1,2,3,4,5]\n",
    "result = [n*2 for n in numbers if n % 2 == 1]\n",
    "print(result)"
   ]
  },
  {
   "cell_type": "code",
   "execution_count": null,
   "metadata": {},
   "outputs": [],
   "source": [
    "################################################################################################"
   ]
  },
  {
   "cell_type": "code",
   "execution_count": 11,
   "metadata": {},
   "outputs": [
    {
     "name": "stdout",
     "output_type": "stream",
     "text": [
      "첫번째 숫자 : 3\n",
      "두번째 숫자 : 4\n",
      "7\n"
     ]
    }
   ],
   "source": [
    "# 4장-3 : 두 개의 숫자를 입력받아 더하여 돌려주는 프로그램\n",
    "\n",
    "a = input(\"첫번째 숫자 : \")\n",
    "b = input(\"두번째 숫자 : \")\n",
    "total = int(a)+int(b)            # 입력은 항상 문자열이므로 숫자로 바꾸어 주어야 한다.\n",
    "print(total)"
   ]
  },
  {
   "cell_type": "code",
   "execution_count": null,
   "metadata": {},
   "outputs": [],
   "source": [
    "################################################################################################"
   ]
  },
  {
   "cell_type": "code",
   "execution_count": 13,
   "metadata": {},
   "outputs": [
    {
     "name": "stdout",
     "output_type": "stream",
     "text": [
      "[1, 3, 8]\n"
     ]
    }
   ],
   "source": [
    "# 5장-4 : filter와 lambda의 사용\n",
    "\n",
    "a = [1,-2,3,-5,8]\n",
    "a = list(filter(lambda x : x>0, a))\n",
    "print(a)"
   ]
  },
  {
   "cell_type": "code",
   "execution_count": null,
   "metadata": {},
   "outputs": [],
   "source": [
    "################################################################################################"
   ]
  },
  {
   "cell_type": "code",
   "execution_count": null,
   "metadata": {},
   "outputs": [],
   "source": [
    "# p321. 코딩면허시험 20제"
   ]
  },
  {
   "cell_type": "code",
   "execution_count": 17,
   "metadata": {},
   "outputs": [
    {
     "data": {
      "text/plain": [
       "'a#b#c#d'"
      ]
     },
     "execution_count": 17,
     "metadata": {},
     "output_type": "execute_result"
    }
   ],
   "source": [
    "# 1. a:b:c:d를 a#b#c#d으로 바꾸기\n",
    "\n",
    "a = \"a:b:c:d\"\n",
    "b = a.split(\":\")\n",
    "c = \"#\".join(b)\n",
    "c"
   ]
  },
  {
   "cell_type": "code",
   "execution_count": 22,
   "metadata": {},
   "outputs": [
    {
     "data": {
      "text/plain": [
       "33"
      ]
     },
     "execution_count": 22,
     "metadata": {},
     "output_type": "execute_result"
    }
   ],
   "source": [
    "# 4. 리스트에서 10점 이상 점수의 총합 구하기\n",
    "\n",
    "a = [1,2,3,10,11,12]\n",
    "sum(list(filter(lambda x: x>=10, a)))"
   ]
  },
  {
   "cell_type": "code",
   "execution_count": 32,
   "metadata": {},
   "outputs": [
    {
     "name": "stdout",
     "output_type": "stream",
     "text": [
      "정수를 입력하세요 : 13\n",
      "0\n",
      "1\n",
      "1\n",
      "2\n",
      "3\n",
      "5\n",
      "8\n",
      "13\n"
     ]
    }
   ],
   "source": [
    "# 5. 피보나치 함수 : 입력을 정수 n으로 받았을 때, n이하까지의 피보나치 수열을 출력하는 함수\n",
    "\n",
    "my_n = int(input(\"정수를 입력하세요 : \"))\n",
    "def pibo(n):\n",
    "    if n==0: return 0\n",
    "    if n==1: return 1\n",
    "    return pibo(n-2) + pibo(n-1)\n",
    "n = 0\n",
    "while pibo(n) <= my_n:\n",
    "    print(pibo(n))\n",
    "    n += 1"
   ]
  },
  {
   "cell_type": "code",
   "execution_count": null,
   "metadata": {},
   "outputs": [],
   "source": [
    "# 뒤에 문제들은 난이도가 생각보다 높아서 나중에 다시 풀 예정"
   ]
  }
 ],
 "metadata": {
  "kernelspec": {
   "display_name": "Python 3",
   "language": "python",
   "name": "python3"
  },
  "language_info": {
   "codemirror_mode": {
    "name": "ipython",
    "version": 3
   },
   "file_extension": ".py",
   "mimetype": "text/x-python",
   "name": "python",
   "nbconvert_exporter": "python",
   "pygments_lexer": "ipython3",
   "version": "3.7.3"
  }
 },
 "nbformat": 4,
 "nbformat_minor": 2
}
