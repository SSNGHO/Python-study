{
 "cells": [
  {
   "cell_type": "code",
   "execution_count": 3,
   "metadata": {},
   "outputs": [
    {
     "name": "stdout",
     "output_type": "stream",
     "text": [
      "<class 'int'>\n",
      "<class 'float'>\n",
      "<class 'str'>\n",
      "<class 'bool'>\n"
     ]
    },
    {
     "data": {
      "text/plain": [
       "3.0"
      ]
     },
     "execution_count": 3,
     "metadata": {},
     "output_type": "execute_result"
    }
   ],
   "source": [
    "# Ch2. 메모리와 변수\n",
    "# Basic Operation \n",
    "\n",
    "a = 3\n",
    "b = 3.0\n",
    "c = \"3\"\n",
    "d = True\n",
    "\n",
    "print(type(a)) # 정수형\n",
    "print(type(b)) # 실수형\n",
    "print(type(c)) # 문자형\n",
    "print(type(d)) # 논리/불린 자료형\n",
    "\n",
    "float(a)"
   ]
  },
  {
   "cell_type": "code",
   "execution_count": 4,
   "metadata": {},
   "outputs": [
    {
     "name": "stdout",
     "output_type": "stream",
     "text": [
      "enter your neme\n",
      "3\n",
      "hi 3\n",
      "섭씨를 입력하세요 : 35\n",
      "95.0\n"
     ]
    }
   ],
   "source": [
    "# Ch3. 화면 입출력과 리스트 다루기 (Console & List Data Type)\n",
    "\n",
    "print(\"enter your neme\")\n",
    "somebody = input()\n",
    "print(\"hi\", somebody)\n",
    "\n",
    "# 화씨 계산기\n",
    "cel = input(\"섭씨를 입력하세요 : \")\n",
    "print(float(cel)*9/5 + 32)"
   ]
  },
  {
   "cell_type": "code",
   "execution_count": null,
   "metadata": {},
   "outputs": [],
   "source": [
    "print(1,2,3)\n",
    "print(\"%d %d %d\" % (12,2,3))\n",
    "print(\"{}{}{}\".format(1,2,3))\n",
    "print('%s %s' % ('asd','asdf'))\n",
    "print(\"%s %s\" % ('asd','asdf'))"
   ]
  },
  {
   "cell_type": "code",
   "execution_count": null,
   "metadata": {},
   "outputs": [],
   "source": [
    "number = 3\n",
    "day = 2\n",
    "print(\"I ate %d apples. I was sick for %s days.\" % (number, day))\n",
    "print(\"i ate {0} and {1}\". format(number, day))"
   ]
  },
  {
   "cell_type": "code",
   "execution_count": null,
   "metadata": {},
   "outputs": [],
   "source": [
    "# %s 문자열(String)\n",
    "# %c 문자 1개(character)\n",
    "# %d 정수(integer)\n",
    "# %f 부동소수(floating-point)\n",
    "\n",
    "# padding : 여유 공간을 지정하여 글자배열+소수점 자릿수를 맞추기\n",
    "print(\"product: %5s price per unit : %.5f\" % (\"apple\", 5.243))\n",
    "print(\"product: {0:10s}, price per unit: {1:10.3f}\". format(\"apple\", 5.253))\n",
    "print(\"product: {0:>10s}, price per unit: {1:10.3f}\". format(\"apple\", 5.253))\n"
   ]
  },
  {
   "cell_type": "code",
   "execution_count": null,
   "metadata": {},
   "outputs": [],
   "source": [
    "# 데이터가 100개 있다면 어떻게 관리할 것인가?\n",
    "# List 또는 Array\n",
    "\n",
    "color = ['red','blue']\n",
    "print(color)\n",
    "\n",
    "color.append(\"yellow\")\n",
    "print(color)\n",
    "\n",
    "color2 = ['red']\n",
    "color.extend(color2)\n",
    "print(color)\n",
    "\n",
    "color.insert(0, \"seungho\")\n",
    "print(color)\n",
    "\n",
    "del color[0]\n",
    "print(color)\n",
    "\n",
    "color.remove('red')\n",
    "print(color)\n",
    "\n",
    "color.remove('red')\n",
    "print(color)\n"
   ]
  },
  {
   "cell_type": "code",
   "execution_count": null,
   "metadata": {},
   "outputs": [],
   "source": [
    "# 이차원 리스트\n",
    "\n",
    "kor = [10,20]\n",
    "math = [30,40]\n",
    "midterm = [kor, math]\n",
    "print(kor)\n",
    "print(math)\n",
    "print(midterm)\n",
    "print(midterm[0][1])"
   ]
  },
  {
   "cell_type": "code",
   "execution_count": null,
   "metadata": {},
   "outputs": [],
   "source": [
    "# Ch4. if statement\n",
    "\n",
    "year = input(\"당신이 태어난 년도를 입력하세요 : \")\n",
    "a = int(year)\n",
    "print(a)\n",
    "\n",
    "age = 2017-a+1\n",
    "if age >= 20 and age <=26:\n",
    "    print(\"대학생\")\n",
    "elif age >= 17 and age<20:\n",
    "    print(\"고등학생\")\n",
    "elif age >= 14 and age<17:\n",
    "    print(\"중학생\")\n",
    "elif age >= 8 and age<14:\n",
    "    print(\"초등학생\")\n",
    "else:\n",
    "    print(\"학생이 아닙니다\")\n"
   ]
  },
  {
   "cell_type": "code",
   "execution_count": null,
   "metadata": {},
   "outputs": [],
   "source": [
    "# 반복문\n",
    "\n",
    "for looper in [1,2,3]:\n",
    "    print(\"helo\")"
   ]
  },
  {
   "cell_type": "code",
   "execution_count": null,
   "metadata": {},
   "outputs": [],
   "source": [
    "for looper in range(0,5):\n",
    "    print (\"hello\")"
   ]
  },
  {
   "cell_type": "code",
   "execution_count": null,
   "metadata": {},
   "outputs": [],
   "source": [
    "for i in ['a','b','c']:\n",
    "    print(i)"
   ]
  },
  {
   "cell_type": "code",
   "execution_count": null,
   "metadata": {},
   "outputs": [],
   "source": [
    "i=1\n",
    "while i<5:\n",
    "    print(i)\n",
    "    i += 1"
   ]
  },
  {
   "cell_type": "code",
   "execution_count": null,
   "metadata": {},
   "outputs": [],
   "source": [
    "# continue : 특정 조건에서 반복 명령 skip\n",
    "\n",
    "for i in range(10):\n",
    "    if i==5: continue\n",
    "    print (i)\n",
    "print(\"eop\")"
   ]
  },
  {
   "cell_type": "code",
   "execution_count": null,
   "metadata": {},
   "outputs": [],
   "source": [
    "a = int(input(\"구구단 몇단을 계산할까요?\"))\n",
    "print(\"구구단 %d단을 계산합니다.\" % a)\n",
    "\n",
    "for i in range(1,10):\n",
    "    print(\"%d * %d = %d\" % (a, i, i*a))"
   ]
  },
  {
   "cell_type": "code",
   "execution_count": null,
   "metadata": {},
   "outputs": [],
   "source": [
    "print(\"구구단 몇단을 계산할까요?\")\n",
    "user_input = input()\n",
    "print(\"구구단\"+user_input+\"단을 계산합니다\")\n",
    "int_input = int(user_input)\n",
    "for i in range(1,10):\n",
    "    result = int_input * i\n",
    "    print(user_input, \"X\", i, \"=\", result)"
   ]
  },
  {
   "cell_type": "code",
   "execution_count": null,
   "metadata": {},
   "outputs": [],
   "source": [
    "sentence = 'I love you'\n",
    "reverse_sentence = ''\n",
    "for char in sentence:\n",
    "    reverse_sentence = char + reverse_sentence\n",
    "print(reverse_sentence)"
   ]
  },
  {
   "cell_type": "code",
   "execution_count": null,
   "metadata": {},
   "outputs": [],
   "source": [
    "# 10진수를 2진수로 바꿔주는\n",
    "\n",
    "decimal = 10\n",
    "result = ''\n",
    "while (decimal > 0):\n",
    "    remainder = decimal % 2\n",
    "    decimal = decimal//2\n",
    "    result = str(remainder) + result\n",
    "print(result)"
   ]
  },
  {
   "cell_type": "code",
   "execution_count": null,
   "metadata": {
    "scrolled": true
   },
   "outputs": [],
   "source": [
    "import random\n",
    "guess_number = random.randint(1,100)\n",
    "print(\"숫자를 맞춰보세요 (1~100)\")\n",
    "users_input = int(input())\n",
    "while (users_input is not guess_number):\n",
    "    if users_input > guess_number:\n",
    "        print(\"숫자가 너무 큽니다\")\n",
    "    else:\n",
    "        print(\"숫자가 너무 작습니다\")\n",
    "    users_input = int(input())\n",
    "else: print(\"정답입니다.\", \"입력한 숫자는 \", users_input, \"입니다\")"
   ]
  },
  {
   "cell_type": "code",
   "execution_count": null,
   "metadata": {},
   "outputs": [],
   "source": [
    "# user_input = 1\n",
    "\n",
    "# while (user_input != 0):\n",
    "#     print(\"구구단 몇단을 계산할까요? (1~9)\")\n",
    "#     user_input = int(input())\n",
    "#     print(\"구구단\"+user_input+\"단을 계산합니다\")\n",
    "#     int_input = int(user_input)\n",
    "#     for i in range(1,10):\n",
    "#         result = int_input * i\n",
    "#         print(user_input, \"X\", i, \"=\", result)\n",
    "# print(\"구구단 게임을 종료합니다\")"
   ]
  },
  {
   "cell_type": "code",
   "execution_count": null,
   "metadata": {},
   "outputs": [],
   "source": [
    "print(\"구구단 몇단을 계산할까요?\")\n",
    "user_input = input()\n",
    "print(\"구구단\"+user_input+\"단을 계산합니다\")\n",
    "int_input = int(user_input)\n",
    "for i in range(1,10):\n",
    "    result = int_input * i\n",
    "    print(user_input, \"X\", i, \"=\", result)"
   ]
  },
  {
   "cell_type": "code",
   "execution_count": null,
   "metadata": {},
   "outputs": [],
   "source": [
    "# 0단이 될때까지 구구단이 나오는 연속적인 구구단\n",
    "\n",
    "a = 1\n",
    "while (a != 0):\n",
    "    a = int(input(\"구구단 몇단을 계산할까요?\"))\n",
    "    if a==0: break\n",
    "    print(\"구구단 %d단을 계산합니다.\" % a)\n",
    "\n",
    "    for i in range(1,10):\n",
    "        print(\"%d * %d = %d\" % (a, i, i*a))\n",
    "        \n",
    "print(\"종료\")"
   ]
  },
  {
   "cell_type": "code",
   "execution_count": 1,
   "metadata": {},
   "outputs": [
    {
     "name": "stdout",
     "output_type": "stream",
     "text": [
      "몇단을 계산할까요\n",
      "3\n",
      "구구단3단을 계산합니다.\n",
      "3X1=3\n",
      "3X2=6\n",
      "3X3=9\n",
      "3X4=12\n",
      "3X5=15\n",
      "3X6=18\n",
      "3X7=21\n",
      "3X8=24\n",
      "3X9=27\n",
      "몇단을 계산할까요\n",
      "0\n",
      "종료\n"
     ]
    }
   ],
   "source": [
    "# 0단이 될때까지 구구단이 나오는 연속적인 구구단\n",
    "\n",
    "print(\"몇단을 계산할까요\")\n",
    "x=1\n",
    "while (x != 0):\n",
    "    x = int(input())\n",
    "    if x==0: break\n",
    "    if not(1<=x<=9):\n",
    "        print(\"1부터 9사이 숫자를 입력해주세요\")\n",
    "        continue\n",
    "    else:\n",
    "        print(\"구구단\" + str(x) + \"단을 계산합니다.\")\n",
    "        for i in range(1,10):\n",
    "            print(str(x) + \"X\" + str(i) + \"=\" + str(x*i))\n",
    "        print(\"몇단을 계산할까요\")\n",
    "print(\"종료\")"
   ]
  },
  {
   "cell_type": "code",
   "execution_count": 6,
   "metadata": {
    "scrolled": true
   },
   "outputs": [
    {
     "name": "stdout",
     "output_type": "stream",
     "text": [
      "[[49, 79, 20, 100, 80], [43, 59, 85, 30, 90], [49, 79, 48, 60, 100]]\n",
      "ㅡㅡㅡㅡㅡㅡㅡ\n",
      "20\n"
     ]
    }
   ],
   "source": [
    "# 이차원 리스트 처리하기\n",
    "kor_score = [49,79,20,100,80]\n",
    "math_score = [43,59,85,30,90]\n",
    "eng_score = [49,79,48,60,100]\n",
    "midterm_score = [kor_score, math_score, eng_score]\n",
    "print(midterm_score)\n",
    "print(\"ㅡㅡㅡㅡㅡㅡㅡ\")\n",
    "print(midterm_score[0][2])"
   ]
  },
  {
   "cell_type": "code",
   "execution_count": 2,
   "metadata": {},
   "outputs": [
    {
     "name": "stdout",
     "output_type": "stream",
     "text": [
      "15\n"
     ]
    }
   ],
   "source": [
    "def addition(x,y):\n",
    "    return x+y\n",
    "\n",
    "# python shell 에서 호출할 경우 실행되지 않음\n",
    "if __name__ == \"__main__\":\n",
    "    print(addition(10,5))"
   ]
  },
  {
   "cell_type": "code",
   "execution_count": null,
   "metadata": {},
   "outputs": [],
   "source": [
    "# 모르는 문제는 google + stack overflow에서 해결가능"
   ]
  },
  {
   "cell_type": "code",
   "execution_count": 38,
   "metadata": {},
   "outputs": [
    {
     "data": {
      "text/plain": [
       "'1'"
      ]
     },
     "execution_count": 38,
     "metadata": {},
     "output_type": "execute_result"
    }
   ],
   "source": [
    "b = 9 % 2\n",
    "result = ''\n",
    "result + str(b)"
   ]
  },
  {
   "cell_type": "code",
   "execution_count": 98,
   "metadata": {},
   "outputs": [
    {
     "data": {
      "text/plain": [
       "['11',\n",
       " '12',\n",
       " '13',\n",
       " '1a',\n",
       " '21',\n",
       " '22',\n",
       " '23',\n",
       " '2a',\n",
       " '31',\n",
       " '32',\n",
       " '33',\n",
       " '3a',\n",
       " 'a1',\n",
       " 'a2',\n",
       " 'a3',\n",
       " 'aa']"
      ]
     },
     "execution_count": 98,
     "metadata": {},
     "output_type": "execute_result"
    }
   ],
   "source": [
    "def number_of_cases(list_data):\n",
    "    result = []\n",
    "    for i in range(len(list_data)):\n",
    "        for j in range(len(list_data)):\n",
    "            temp = str(list_data[i]) + str(list_data[j])\n",
    "            result.append(temp)\n",
    "    result = list(set(result))\n",
    "    result.sort()\n",
    "    return result\n",
    "\n",
    "number_of_cases([1,2,3,'a'])"
   ]
  },
  {
   "cell_type": "code",
   "execution_count": 54,
   "metadata": {},
   "outputs": [
    {
     "data": {
      "text/plain": [
       "'12'"
      ]
     },
     "execution_count": 54,
     "metadata": {},
     "output_type": "execute_result"
    }
   ],
   "source": [
    "a = [1,2,3,'g']\n",
    "str(a[0])\n",
    "(0,len(a))\n",
    "\n",
    "str(a[0]) + str(a[1])"
   ]
  },
  {
   "cell_type": "code",
   "execution_count": 53,
   "metadata": {},
   "outputs": [
    {
     "name": "stdout",
     "output_type": "stream",
     "text": [
      "0\n",
      "1\n",
      "2\n",
      "3\n"
     ]
    }
   ],
   "source": [
    "for i in range(len(a)):\n",
    "    print(i)\n",
    "    "
   ]
  }
 ],
 "metadata": {
  "kernelspec": {
   "display_name": "Python 3",
   "language": "python",
   "name": "python3"
  },
  "language_info": {
   "codemirror_mode": {
    "name": "ipython",
    "version": 3
   },
   "file_extension": ".py",
   "mimetype": "text/x-python",
   "name": "python",
   "nbconvert_exporter": "python",
   "pygments_lexer": "ipython3",
   "version": "3.7.3"
  }
 },
 "nbformat": 4,
 "nbformat_minor": 2
}
