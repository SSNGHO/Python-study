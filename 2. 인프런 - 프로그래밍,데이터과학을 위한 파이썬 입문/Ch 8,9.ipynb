{
 "cells": [
  {
   "cell_type": "code",
   "execution_count": null,
   "metadata": {},
   "outputs": [],
   "source": [
    "# Ch8,9 : Pythonic Code (파이썬스러운 코드)\n",
    "\n",
    "# split & join\n",
    "# list comprehension\n",
    "# enumerate & zip\n",
    "\n",
    "# 책 추천: Effective python-파이썬 코딩의 기술"
   ]
  },
  {
   "cell_type": "code",
   "execution_count": 7,
   "metadata": {},
   "outputs": [
    {
     "name": "stdout",
     "output_type": "stream",
     "text": [
      "['zero', 'one', 'two', 'three']\n",
      "['python', 'lol', 'abc']\n",
      "red, blue, yellow\n"
     ]
    }
   ],
   "source": [
    "# Split & Join\n",
    "\n",
    "# Split함수 : string type의 값을 나눠서 list형태로 변환\n",
    "items = \"zero one two three\".split()\n",
    "print(items)   # 빈칸을 기준으로 문자열 나누기\n",
    "example = 'python,lol,abc'\n",
    "print(example.split(\",\"))\n",
    "\n",
    "# Join 함수 : string list를 합쳐 하나의 string으로 만들 때\n",
    "color = ['red', 'blue', 'yellow']\n",
    "result = ', '.join(color)\n",
    "print(result)"
   ]
  },
  {
   "cell_type": "code",
   "execution_count": 14,
   "metadata": {},
   "outputs": [
    {
     "name": "stdout",
     "output_type": "stream",
     "text": [
      "[0, 1, 2, 3, 4, 5, 6, 7, 8, 9]\n",
      "['a1', 'a2', 'a3', 'b1', 'b2', 'b3', 'c1', 'c2', 'c3']\n",
      "[['a1', 'b1', 'c1'], ['a2', 'b2', 'c2'], ['a3', 'b3', 'c3']]\n"
     ]
    },
    {
     "data": {
      "text/plain": [
       "['a1', 'b1', 'c1', 'a2', 'b2', 'c2', 'a3', 'b3', 'c3']"
      ]
     },
     "execution_count": 14,
     "metadata": {},
     "output_type": "execute_result"
    }
   ],
   "source": [
    "# List Comprehension\n",
    "\n",
    "# 기존 list를 사용하여 간단히 다른 list를 만드는 기법\n",
    "# 일반적으로 for + append보다 속도가 빠름\n",
    "\n",
    "result = [i for i in range(10)]\n",
    "print(result)\n",
    "\n",
    "case_1 = ['a','b','c']\n",
    "case_2 = ['1','2','3']\n",
    "result_2 = [i+j for i in case_1 for j in case_2]\n",
    "print(result_2)\n",
    "\n",
    "result_3 = [[i+j for i in case_1] for j in case_2]\n",
    "print(result_3)\n",
    "\n",
    "[element for x in result_3 for element in x]"
   ]
  },
  {
   "cell_type": "code",
   "execution_count": 15,
   "metadata": {},
   "outputs": [
    {
     "name": "stdout",
     "output_type": "stream",
     "text": [
      "0 tic\n",
      "1 tac\n",
      "2 toc\n"
     ]
    }
   ],
   "source": [
    "# Enumerate\n",
    "# list의 element를 추출할 때 index번호를 붙여서 추출함\n",
    "for i, v in enumerate(['tic','tac','toc']):\n",
    "    print(i,v)\n",
    "    \n",
    "# zip\n",
    "# 두개의 list의 값을 병렬적으로 추출함\n"
   ]
  },
  {
   "cell_type": "code",
   "execution_count": 17,
   "metadata": {},
   "outputs": [
    {
     "name": "stdout",
     "output_type": "stream",
     "text": [
      "5\n"
     ]
    }
   ],
   "source": [
    "# Lambda\n",
    "# 함수 이름 없이 함수처럼 쓸 수 있는 익명함수\n",
    "f = lambda x,y: x+y\n",
    "print(f(1,4))"
   ]
  },
  {
   "cell_type": "code",
   "execution_count": 18,
   "metadata": {},
   "outputs": [
    {
     "name": "stdout",
     "output_type": "stream",
     "text": [
      "[6, 7, 8, 9, 10]\n"
     ]
    }
   ],
   "source": [
    "# map & reduce\n",
    "# map : sequence 자료형 각 element에 동일한 function을 적용함\n",
    "ex = [1,2,3,4,5]\n",
    "ex_2 = [5,5,5,5,5]\n",
    "f = lambda x, y: x+y\n",
    "print(list(map(f, ex, ex_2))) \n",
    "\n",
    "# reduce function : map function과 달리 list에 똑같은 함수를 적용해서 통합\n",
    "\n",
    "# 직관성이 떨어져서 많이 쓰이지는 않지만\n",
    "# 빅데이터 분산 처리 시스템의 기본이 됨"
   ]
  },
  {
   "cell_type": "code",
   "execution_count": 21,
   "metadata": {},
   "outputs": [
    {
     "name": "stdout",
     "output_type": "stream",
     "text": [
      "[7, 10]\n"
     ]
    }
   ],
   "source": [
    "# Asterisk\n",
    "\n",
    "u = [2,2]\n",
    "v = [2,3]\n",
    "z = [3,5]\n",
    "\n",
    "result = [sum(t) for t in zip(u,v,z)]\n",
    "\n",
    "print(result)"
   ]
  }
 ],
 "metadata": {
  "kernelspec": {
   "display_name": "Python 3",
   "language": "python",
   "name": "python3"
  },
  "language_info": {
   "codemirror_mode": {
    "name": "ipython",
    "version": 3
   },
   "file_extension": ".py",
   "mimetype": "text/x-python",
   "name": "python",
   "nbconvert_exporter": "python",
   "pygments_lexer": "ipython3",
   "version": "3.7.3"
  }
 },
 "nbformat": 4,
 "nbformat_minor": 2
}
