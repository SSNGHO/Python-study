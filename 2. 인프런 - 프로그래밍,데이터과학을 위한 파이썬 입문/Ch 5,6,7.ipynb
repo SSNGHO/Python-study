{
 "cells": [
  {
   "cell_type": "code",
   "execution_count": null,
   "metadata": {},
   "outputs": [],
   "source": [
    "# Ch5. 함수\n",
    "# 프로그램을 여럿이 개발할때 어떻게 작성하면 좋을까?\n",
    "\n",
    "# parameter : 함수의 입력 값 인터페이스\n",
    "# argument : 실제 parameter에 대입된 값"
   ]
  },
  {
   "cell_type": "code",
   "execution_count": 1,
   "metadata": {},
   "outputs": [
    {
     "name": "stdout",
     "output_type": "stream",
     "text": [
      "200\n"
     ]
    }
   ],
   "source": [
    "def calculate_rectangle_area(x,y):\n",
    "    return x*y\n",
    "\n",
    "rectangle_x=10\n",
    "rectangle_y=20\n",
    "\n",
    "print(calculate_rectangle_area(rectangle_x, rectangle_y))"
   ]
  },
  {
   "cell_type": "code",
   "execution_count": null,
   "metadata": {},
   "outputs": [],
   "source": [
    "# 함수 호출방식\n",
    "\n",
    "# 1. 값에 의한 호출 (call by value)\n",
    "# 2. 주소에 의한 호출 (call by reference)\n",
    "# 어려우니 그냥 이런게 있다 정도\n",
    "# 파이썬은 변경할때는 영향을 주나, 새로 만들땐 영향을 안준다"
   ]
  },
  {
   "cell_type": "code",
   "execution_count": null,
   "metadata": {},
   "outputs": [],
   "source": [
    "# 변수의 범위(scoping rule)\n",
    "\n",
    "# 1. 지역변수(local) : 함수내에서만 사용\n",
    "# 2. 전역변수(global) : 프로그램 전체에서 사용\n",
    "# 함수내에서 어떤 변수를 쓰는데 그게 전역변수이고 싶으면\n",
    "# global s : 처럼 이렇게 써주면 됨"
   ]
  },
  {
   "cell_type": "code",
   "execution_count": null,
   "metadata": {},
   "outputs": [],
   "source": [
    "# Passing arguments\n",
    "\n",
    "# 함수에 입력되는 arguments는 다양한 형태를 가짐\n",
    "# 1. keyword 2. default 3. variable-length\n",
    "\n",
    "# 1. keyword arguments : 우리가 기존에 함수에 쓴것들\n",
    "# 2. default : 입력하지 않을 경우 기본값을 출력함\n",
    "#     ex) init = 0\n",
    "# 3. variable-length : 가변인자"
   ]
  },
  {
   "cell_type": "code",
   "execution_count": 2,
   "metadata": {},
   "outputs": [
    {
     "name": "stdout",
     "output_type": "stream",
     "text": [
      "15\n"
     ]
    }
   ],
   "source": [
    "# 3. variable-length : 가변인자를 사용한 asterisk(*)\n",
    "# 개수가 정해지지 않은 변수를 함수의 parameter로 사용하는 법\n",
    "# 가변인자는 일반적으로 *args를 변수명으로 사용\n",
    "# 기존 parameter 이후에 나오는 값을 tuple로 저장함\n",
    "\n",
    "def asterisk_test(a,b,*args):\n",
    "    return a+b+sum(args)\n",
    "\n",
    "print(asterisk_test(1,2,3,4,5))"
   ]
  },
  {
   "cell_type": "code",
   "execution_count": 8,
   "metadata": {},
   "outputs": [
    {
     "name": "stdout",
     "output_type": "stream",
     "text": [
      "{'first': 3, 'second': 4}\n",
      "----------------------------\n",
      "10\n",
      "{'first': 3, 'second': 4, 'third': 5}\n"
     ]
    }
   ],
   "source": [
    "# 4. 키워드 가변인자(keyword variable-length)\n",
    "# **kwargs\n",
    "# dict type으로 사용할 수 있음\n",
    "# 키워드 가변인자는 기존 가변인자 다음에 사용\n",
    "\n",
    "def kwargs_test_1(**kwargs):\n",
    "    print(kwargs)\n",
    "    \n",
    "kwargs_test_1(first=3, second=4)\n",
    "\n",
    "print(\"----------------------------\")\n",
    "\n",
    "def kwargs_test_3(one, two, *args, **kwargs):\n",
    "    print(one + two + sum(args))\n",
    "    print(kwargs)\n",
    "    \n",
    "kwargs_test_3(1,2,3,4,first=3,second=4,third=5)"
   ]
  },
  {
   "cell_type": "code",
   "execution_count": null,
   "metadata": {},
   "outputs": [],
   "source": [
    "# How to write good code\n",
    "\n",
    "# 일관성!!  읽기좋은 코드!! \n",
    "# 코딩 컨벤션 (pep8은 파이썬 코딩의 기준을 제시)\n",
    "# 4space, 한줄79자, 불필요한 공백x, =연산자는 1칸이상 안띄움\n",
    "# 함수명은 소문자, 필요하면 밑줄로 나눔\n",
    "\n",
    "# 파이썬에선 flake8 모듈로 수정가능\n",
    "# flake8 ~~~.py로 체크 가능\n",
    "\n",
    "# 함수 작성 가이드라인\n",
    "# 함수는 가능하면 짧게 작성할 것\n",
    "# 함수 이름에 함수의 역할, 의도가 들어갈 것\n",
    "# 복잡한 수식은 함수로 만들기\n",
    "# 하나의 함수는 하나의 일만 한다."
   ]
  },
  {
   "cell_type": "code",
   "execution_count": null,
   "metadata": {},
   "outputs": [],
   "source": [
    "#################################################################################################################################"
   ]
  },
  {
   "cell_type": "code",
   "execution_count": null,
   "metadata": {},
   "outputs": [],
   "source": [
    "# Ch6. String(문자열)\n",
    "\n",
    "# String은 시퀀스 자료형으로 문자형 data를 메모리에 저장\n",
    "# 시퀀스 자료형이라 리스트와 특징이 동일하다"
   ]
  },
  {
   "cell_type": "code",
   "execution_count": 5,
   "metadata": {},
   "outputs": [
    {
     "name": "stdout",
     "output_type": "stream",
     "text": [
      "50\n",
      "50\n",
      "52\n",
      "76\n"
     ]
    }
   ],
   "source": [
    "# 영문자 1글자는 1byte의 메모리를 차지함\n",
    "# string은 1byte 크기로 한 글자씩 메모리 공간이 할당됨\n",
    "\n",
    "import sys\n",
    "print(sys.getsizeof(\"a\"))\n",
    "print(sys.getsizeof(\"1\"))\n",
    "print(sys.getsizeof(\"abc\"))\n",
    "print(sys.getsizeof(\"가\"))"
   ]
  },
  {
   "cell_type": "code",
   "execution_count": 12,
   "metadata": {},
   "outputs": [
    {
     "name": "stdout",
     "output_type": "stream",
     "text": [
      "BALMAET\n",
      "TALB\n",
      "TEAMLAB\n",
      "TEAMLABlab\n"
     ]
    }
   ],
   "source": [
    "# 인덱싱(indexing)\n",
    "# 문자열의 각 문자는 개별주소(offset)을 가짐\n",
    "a = \"TEAMLAB\"\n",
    "print(a[::-1]) # 처음부터, 끝까지, 거꾸로 1칸 단위로\n",
    "print(a[::2]) # 처음부터, 끝까지, 2칸 단위로'\n",
    "print(a[:]) # 처음부터, 끝까지\n",
    "b = \"lab\"\n",
    "print(a+b)"
   ]
  },
  {
   "cell_type": "code",
   "execution_count": null,
   "metadata": {},
   "outputs": [],
   "source": [
    "def get_factorial_value(integer_value):\n",
    "    result = 1\n",
    "    for i in range(1,integer_value+1):\n",
    "        result = result * i\n",
    "    return result\n",
    "\n",
    "get_factorial_value(5)"
   ]
  },
  {
   "cell_type": "code",
   "execution_count": null,
   "metadata": {},
   "outputs": [],
   "source": [
    "#################################################################################################################################"
   ]
  },
  {
   "cell_type": "code",
   "execution_count": null,
   "metadata": {},
   "outputs": [],
   "source": [
    "# CH7. 자료구조 (Data Structure)"
   ]
  },
  {
   "cell_type": "code",
   "execution_count": null,
   "metadata": {},
   "outputs": [],
   "source": [
    "# 자료구조 (Data Structure)\n",
    "\n",
    "# Q. 특징이 있는 정보는 어떻게 저장하면 좋을까?\n",
    "# 자료구조 : 메모리상에 데이터를 효율적으로 관리하는 방법\n",
    "# 스택과 큐 (stack & queue)\n",
    "# 튜플과 집합 (tuple set)\n",
    "# 사전 (dictionary)"
   ]
  },
  {
   "cell_type": "code",
   "execution_count": null,
   "metadata": {},
   "outputs": [],
   "source": [
    "# 스택(Stack)\n",
    "\n",
    "# 나중에 넣은 데이터를 먼저 반환하도록 설계된 메모리 구조\n",
    "# Last In First Out(LIFO)로 구현됨\n",
    "# data 입력을 push, 출력을 pop이라고 함\n",
    "a = [1,2,3]\n",
    "a.append(10)\n",
    "a.pop()\n",
    "\n",
    "result = []\n",
    "word = input()\n",
    "word_list = list(word)\n",
    "for _ in range(len(word_list)):\n",
    "    result.append(word_list.pop())    \n",
    "print(result)\n",
    "print(word[::-1])"
   ]
  },
  {
   "cell_type": "code",
   "execution_count": null,
   "metadata": {},
   "outputs": [],
   "source": [
    "# 큐(Queue)\n",
    "\n",
    "# 먼저 넣은 데이터를 먼저 반환하도록 설계된 메모리 구조\n",
    "# First In First Out(FIFO)으로 구현됨\n",
    "# 스택과 반대되는 개념\n",
    "a = [1,2,3]\n",
    "a.pop(0)"
   ]
  },
  {
   "cell_type": "code",
   "execution_count": null,
   "metadata": {},
   "outputs": [],
   "source": [
    "# 튜플(Tuple)\n",
    "\n",
    "# 값의 변경이 불가능한 리스트\n",
    "# 리스트의 연산, 인덱싱, 슬라이싱 등을 동일하게 사용\n",
    "t = (1,)\n",
    "type(t)"
   ]
  },
  {
   "cell_type": "code",
   "execution_count": null,
   "metadata": {},
   "outputs": [],
   "source": [
    "# 집합(Set)\n",
    "\n",
    "# 값을 순서없이 저장, 중복을 불허하는 자료형\n",
    "# 수학에서 활용하는 다양한 집합연산 가능(union, intersection, ...)\n",
    "s = set([1,2,3,2,1])\n",
    "s.add(2.5)\n",
    "s"
   ]
  },
  {
   "cell_type": "code",
   "execution_count": null,
   "metadata": {},
   "outputs": [],
   "source": [
    "# 사전(Dictionary)\n",
    "\n",
    "# 데이터를 저장 할때 값을 함께 저장\n",
    "# Key값을 활용하여 Value를 관리함\n",
    "# Key로 value를 검색함\n",
    "student = {13:'sh', 14:'hy', 15:'jn'}\n",
    "print(student[14])\n",
    "for k,v in student.items():\n",
    "    print(k,v)"
   ]
  },
  {
   "cell_type": "code",
   "execution_count": null,
   "metadata": {},
   "outputs": [],
   "source": [
    "# Collections\n",
    "\n",
    "# 편의성, 실행 효율을 위해 사용자에게 제공함\n",
    "# List, Tuple, Dict에 대한 파이썬 빌트인 확장 자료 구조(모듈)\n",
    "# deque, Counter, OrderedDict, defaultdict, namedtuple이 존재"
   ]
  },
  {
   "cell_type": "code",
   "execution_count": null,
   "metadata": {},
   "outputs": [],
   "source": [
    "# 1. deque\n",
    "\n",
    "# stack과 queue를 지원하는 모듈\n",
    "# list에 비해 효율적인 자료 저장 방식을 지원함\n",
    "# rotate, reverse 등 linked list의 특성을 지원함\n",
    "# 기존 list 형태의 함수를 모두 지원함\n",
    "\n",
    "from collections import deque\n",
    "\n",
    "deque_list = deque()\n",
    "for i in range(5):\n",
    "    deque_list.append(i)\n",
    "print(deque_list)"
   ]
  },
  {
   "cell_type": "code",
   "execution_count": null,
   "metadata": {},
   "outputs": [],
   "source": [
    "# 2. OrderedDict\n",
    "# dict와 달리 데이터를 입력한 순서대로 dict를 반환함\n",
    "\n",
    "# 3. defaultdict\n",
    "# dict type의 값에 기본 값을 지정해, 신규값 생성시 사용하는 방법\n",
    "# 하나의 지문에 각 단어들이 몇개나 있는지 세고 싶을 경우?\n",
    "\n",
    "# 4. Counter\n",
    "# data element들의 갯수를 dict 형태로 반환\n",
    "# c = Counter('gallahad')\n",
    "# print(c)\n",
    "# text = \"\"\"jump to python is very good\"\"\".lower().split()\n",
    "# print(text)\n",
    "# print(Counter(text))\n",
    "\n",
    "# 5. namedtuple\n",
    "# tuple형태로 data구조체를 저장하는 방법\n",
    "# 저장되는 data의 variable을 사전에 지정하여 저장함"
   ]
  }
 ],
 "metadata": {
  "kernelspec": {
   "display_name": "Python 3",
   "language": "python",
   "name": "python3"
  },
  "language_info": {
   "codemirror_mode": {
    "name": "ipython",
    "version": 3
   },
   "file_extension": ".py",
   "mimetype": "text/x-python",
   "name": "python",
   "nbconvert_exporter": "python",
   "pygments_lexer": "ipython3",
   "version": "3.7.3"
  }
 },
 "nbformat": 4,
 "nbformat_minor": 2
}
